{
 "cells": [
  {
   "cell_type": "code",
   "execution_count": 1,
   "metadata": {},
   "outputs": [],
   "source": [
    "import geopandas as gpd\n",
    "import urban_connector as uc"
   ]
  },
  {
   "cell_type": "markdown",
   "metadata": {},
   "source": [
    "# Calculate accesibility for AOI"
   ]
  },
  {
   "attachments": {},
   "cell_type": "markdown",
   "metadata": {},
   "source": [
    "## Area of interest (AOI)"
   ]
  },
  {
   "cell_type": "code",
   "execution_count": 2,
   "metadata": {},
   "outputs": [],
   "source": [
    "# load AOI polygon\n",
    "gdf_aoi = gpd.read_file(\"./ex_data/AOI_01.geojson\")\n",
    "gdf_aoi_boundary = gdf_aoi.loc[2, \"geometry\"]"
   ]
  },
  {
   "attachments": {},
   "cell_type": "markdown",
   "metadata": {},
   "source": [
    "## Graph"
   ]
  },
  {
   "cell_type": "code",
   "execution_count": 3,
   "metadata": {},
   "outputs": [],
   "source": [
    "# Create graph\n",
    "G = uc.osmnx_graph_from_polygon(gdf_aoi_boundary, 'walk', 4.5)\n",
    "\n",
    "# Create network nodes and lines\n",
    "gdf_nodes, gdf_edges, dict_mapping_nodes = uc.create_geodata_from_graph(G)\n",
    "\n",
    "# Export nodes and lines\n",
    "gdf_nodes.to_file('./ex_data/nodes_all.geojson', driver='GeoJSON')\n",
    "gdf_edges[['osmid', 'reversed', 'node_id_st', 'node_id_en', 'geometry']].to_file('./ex_data/edges_all.geojson', driver='GeoJSON')"
   ]
  },
  {
   "attachments": {},
   "cell_type": "markdown",
   "metadata": {},
   "source": [
    "## Sources"
   ]
  },
  {
   "cell_type": "code",
   "execution_count": 4,
   "metadata": {},
   "outputs": [
    {
     "name": "stderr",
     "output_type": "stream",
     "text": [
      "d:\\GIT\\urban_connector\\urban_connector\\manager\\sources_manager.py:30: UserWarning: The `geometries` module and `geometries_from_X` functions have been renamed the `features` module and `features_from_X` functions. Use these instead. The `geometries` module and function names are deprecated and will be removed in a future release.\n",
      "  gdf_amenities = ox.geometries_from_polygon(poly_boundary, tags={\"amenity\": amenities}).loc[:, [\"name\", \"amenity\", \"geometry\"]].reset_index(drop=True)\n",
      "d:\\GIT\\urban_connector\\urban_connector\\manager\\sources_manager.py:31: UserWarning: Geometry is in a geographic CRS. Results from 'centroid' are likely incorrect. Use 'GeoSeries.to_crs()' to re-project geometries to a projected CRS before this operation.\n",
      "\n",
      "  gdf_amenities.geometry = gdf_amenities.geometry.centroid\n"
     ]
    },
    {
     "name": "stdout",
     "output_type": "stream",
     "text": [
      "20\n"
     ]
    }
   ],
   "source": [
    "# Set amenities to download and the boundary polygon\n",
    "amenities = [\"hospital\"] # \"pharmacy\", \"hospital\", \"school\"\n",
    "\n",
    "# Download amenities from OSM\n",
    "gdf_amenities = uc.get_amenities(gdf_aoi_boundary, amenities)\n",
    "gdf_amenities.to_file(f\"./ex_data/amenities_hospital.geojson\", driver='GeoJSON')\n",
    "print(len(gdf_amenities))\n",
    "\n",
    "# Find all nodes closest to sources\n",
    "list_node_sources = uc.closest_nodes_to_sources(G, gdf_amenities)"
   ]
  },
  {
   "cell_type": "code",
   "execution_count": 5,
   "metadata": {},
   "outputs": [],
   "source": [
    "# Calculate the weighted nodes and edges\n",
    "gdf_nodes_w, gdf_edges_w = uc.calculate_all_nodes_and_edges(G, gdf_nodes, gdf_edges, 'weight', list_node_sources)\n",
    "\n",
    "# Export nodes and lines\n",
    "gdf_nodes_w.to_file('./ex_data/nodes_all_w.geojson', driver='GeoJSON')\n",
    "gdf_edges_w[['osmid', 'reversed', 'node_id_st', 'node_id_en', 'w_start', 'w_end', 'w_mean', 'geometry']].to_file('./ex_data/edges_all_w.geojson', driver='GeoJSON')"
   ]
  },
  {
   "attachments": {},
   "cell_type": "markdown",
   "metadata": {},
   "source": [
    "## Isochrones"
   ]
  },
  {
   "cell_type": "code",
   "execution_count": 6,
   "metadata": {},
   "outputs": [],
   "source": [
    "# Set time limits\n",
    "list_times = [5, 10, 15]"
   ]
  },
  {
   "cell_type": "code",
   "execution_count": 7,
   "metadata": {},
   "outputs": [],
   "source": [
    "# Create isochrones, rings and edges with travel times\n",
    "# long function - output: edges, isochrones, rings\n",
    "list_costs_buffers = []\n",
    "for v_cost_limit in list_times:\n",
    "    df_edges_cost_limit = uc.calculate_service_edges(G, gdf_nodes, gdf_edges, 'weight', v_cost_limit, list_node_sources)\n",
    "    df_edges_cost_limit = df_edges_cost_limit[['node_id_st', 'node_id_en', 'weight', 'w_start', 'w_end', 'w_mean', 'w_limit', 'geometry']]\n",
    "    df_edges_cost_limit.to_file(f\"./ex_data/edges_weight_{v_cost_limit}.geojson\", driver='GeoJSON')\n",
    "    gdf_buffer = uc.create_isochrones(df_edges_cost_limit, \"3857\", 5, 100)\n",
    "    gdf_buffer.to_file(f\"./ex_data/isochrones_weight_{v_cost_limit}.geojson\", driver='GeoJSON')\n",
    "    list_costs_buffers.append(gdf_buffer)\n",
    "\n",
    "gdf_service_areas = uc.merge_isochrones_polygons( list_costs_buffers, 'rings')\n",
    "gdf_service_areas.to_file(\"./ex_data/isochrones_rings.geojson\", driver='GeoJSON')"
   ]
  },
  {
   "cell_type": "markdown",
   "metadata": {},
   "source": [
    "# Analyze smaller AOIs"
   ]
  },
  {
   "cell_type": "code",
   "execution_count": 8,
   "metadata": {},
   "outputs": [
    {
     "data": {
      "text/html": [
       "<div>\n",
       "<style scoped>\n",
       "    .dataframe tbody tr th:only-of-type {\n",
       "        vertical-align: middle;\n",
       "    }\n",
       "\n",
       "    .dataframe tbody tr th {\n",
       "        vertical-align: top;\n",
       "    }\n",
       "\n",
       "    .dataframe thead th {\n",
       "        text-align: right;\n",
       "    }\n",
       "</style>\n",
       "<table border=\"1\" class=\"dataframe\">\n",
       "  <thead>\n",
       "    <tr style=\"text-align: right;\">\n",
       "      <th></th>\n",
       "      <th>Name</th>\n",
       "      <th>area_has</th>\n",
       "      <th>geometry</th>\n",
       "    </tr>\n",
       "  </thead>\n",
       "  <tbody>\n",
       "    <tr>\n",
       "      <th>0</th>\n",
       "      <td>POMPEYA</td>\n",
       "      <td>500.7</td>\n",
       "      <td>POLYGON Z ((-58.41137 -34.63788 0.00000, -58.4...</td>\n",
       "    </tr>\n",
       "    <tr>\n",
       "      <th>1</th>\n",
       "      <td>MATADEROS</td>\n",
       "      <td>502.6</td>\n",
       "      <td>POLYGON Z ((-58.51787 -34.66203 0.00000, -58.5...</td>\n",
       "    </tr>\n",
       "  </tbody>\n",
       "</table>\n",
       "</div>"
      ],
      "text/plain": [
       "        Name  area_has                                           geometry\n",
       "0    POMPEYA     500.7  POLYGON Z ((-58.41137 -34.63788 0.00000, -58.4...\n",
       "1  MATADEROS     502.6  POLYGON Z ((-58.51787 -34.66203 0.00000, -58.5..."
      ]
     },
     "execution_count": 8,
     "metadata": {},
     "output_type": "execute_result"
    }
   ],
   "source": [
    "gdf_aoi_small = gdf_aoi.loc[:1]\n",
    "\n",
    "gdf_aoi_small = gdf_aoi_small.to_crs(\"3857\")\n",
    "gdf_aoi_small['area_has'] = round(gdf_aoi_small.area/10000, 1)  \n",
    "gdf_aoi_small = gdf_aoi_small.to_crs(\"4326\")\n",
    "\n",
    "gdf_aoi_small = gdf_aoi_small[['Name', 'area_has', 'geometry']]\n",
    "gdf_aoi_small"
   ]
  },
  {
   "cell_type": "code",
   "execution_count": 9,
   "metadata": {},
   "outputs": [
    {
     "data": {
      "text/html": [
       "<div>\n",
       "<style scoped>\n",
       "    .dataframe tbody tr th:only-of-type {\n",
       "        vertical-align: middle;\n",
       "    }\n",
       "\n",
       "    .dataframe tbody tr th {\n",
       "        vertical-align: top;\n",
       "    }\n",
       "\n",
       "    .dataframe thead th {\n",
       "        text-align: right;\n",
       "    }\n",
       "</style>\n",
       "<table border=\"1\" class=\"dataframe\">\n",
       "  <thead>\n",
       "    <tr style=\"text-align: right;\">\n",
       "      <th>w_limit</th>\n",
       "      <th>Name</th>\n",
       "      <th>t_10</th>\n",
       "      <th>t_15</th>\n",
       "      <th>t_5</th>\n",
       "    </tr>\n",
       "  </thead>\n",
       "  <tbody>\n",
       "    <tr>\n",
       "      <th>0</th>\n",
       "      <td>MATADEROS</td>\n",
       "      <td>0.0</td>\n",
       "      <td>0.3</td>\n",
       "      <td>0.0</td>\n",
       "    </tr>\n",
       "    <tr>\n",
       "      <th>1</th>\n",
       "      <td>POMPEYA</td>\n",
       "      <td>115.1</td>\n",
       "      <td>122.0</td>\n",
       "      <td>27.0</td>\n",
       "    </tr>\n",
       "  </tbody>\n",
       "</table>\n",
       "</div>"
      ],
      "text/plain": [
       "w_limit       Name   t_10   t_15   t_5\n",
       "0        MATADEROS    0.0    0.3   0.0\n",
       "1          POMPEYA  115.1  122.0  27.0"
      ]
     },
     "execution_count": 9,
     "metadata": {},
     "output_type": "execute_result"
    }
   ],
   "source": [
    "gdf_aoi_small_inter = gpd.overlay(gdf_aoi_small, gdf_service_areas, how='intersection')\n",
    "gdf_aoi_small_inter = gdf_aoi_small_inter.to_crs(\"3857\")\n",
    "gdf_aoi_small_inter['t_area_m'] =  round(gdf_aoi_small_inter.area/10000, 1) \n",
    "gdf_aoi_small_inter.w_limit = \"t_\"+gdf_aoi_small_inter.w_limit.astype(str)\n",
    "\n",
    "df_isochrones_data = gdf_aoi_small_inter.pivot_table(index='Name', columns='w_limit', values='t_area_m').reset_index()\n",
    "df_isochrones_data.fillna(0, inplace=True)\n",
    "df_isochrones_data"
   ]
  },
  {
   "cell_type": "code",
   "execution_count": 10,
   "metadata": {},
   "outputs": [
    {
     "data": {
      "text/html": [
       "<div>\n",
       "<style scoped>\n",
       "    .dataframe tbody tr th:only-of-type {\n",
       "        vertical-align: middle;\n",
       "    }\n",
       "\n",
       "    .dataframe tbody tr th {\n",
       "        vertical-align: top;\n",
       "    }\n",
       "\n",
       "    .dataframe thead th {\n",
       "        text-align: right;\n",
       "    }\n",
       "</style>\n",
       "<table border=\"1\" class=\"dataframe\">\n",
       "  <thead>\n",
       "    <tr style=\"text-align: right;\">\n",
       "      <th></th>\n",
       "      <th>Name</th>\n",
       "      <th>area_has</th>\n",
       "      <th>geometry</th>\n",
       "      <th>t_10</th>\n",
       "      <th>t_15</th>\n",
       "      <th>t_5</th>\n",
       "    </tr>\n",
       "  </thead>\n",
       "  <tbody>\n",
       "    <tr>\n",
       "      <th>0</th>\n",
       "      <td>POMPEYA</td>\n",
       "      <td>500.7</td>\n",
       "      <td>POLYGON Z ((-58.41137 -34.63788 0.00000, -58.4...</td>\n",
       "      <td>115.1</td>\n",
       "      <td>122.0</td>\n",
       "      <td>27.0</td>\n",
       "    </tr>\n",
       "    <tr>\n",
       "      <th>1</th>\n",
       "      <td>MATADEROS</td>\n",
       "      <td>502.6</td>\n",
       "      <td>POLYGON Z ((-58.51787 -34.66203 0.00000, -58.5...</td>\n",
       "      <td>0.0</td>\n",
       "      <td>0.3</td>\n",
       "      <td>0.0</td>\n",
       "    </tr>\n",
       "  </tbody>\n",
       "</table>\n",
       "</div>"
      ],
      "text/plain": [
       "        Name  area_has                                           geometry  \\\n",
       "0    POMPEYA     500.7  POLYGON Z ((-58.41137 -34.63788 0.00000, -58.4...   \n",
       "1  MATADEROS     502.6  POLYGON Z ((-58.51787 -34.66203 0.00000, -58.5...   \n",
       "\n",
       "    t_10   t_15   t_5  \n",
       "0  115.1  122.0  27.0  \n",
       "1    0.0    0.3   0.0  "
      ]
     },
     "execution_count": 10,
     "metadata": {},
     "output_type": "execute_result"
    }
   ],
   "source": [
    "gdf_aoi_small = gdf_aoi_small.merge(df_isochrones_data, on='Name', how='left')\n",
    "gdf_aoi_small"
   ]
  },
  {
   "cell_type": "code",
   "execution_count": 11,
   "metadata": {},
   "outputs": [
    {
     "data": {
      "text/html": [
       "<div>\n",
       "<style scoped>\n",
       "    .dataframe tbody tr th:only-of-type {\n",
       "        vertical-align: middle;\n",
       "    }\n",
       "\n",
       "    .dataframe tbody tr th {\n",
       "        vertical-align: top;\n",
       "    }\n",
       "\n",
       "    .dataframe thead th {\n",
       "        text-align: right;\n",
       "    }\n",
       "</style>\n",
       "<table border=\"1\" class=\"dataframe\">\n",
       "  <thead>\n",
       "    <tr style=\"text-align: right;\">\n",
       "      <th></th>\n",
       "      <th>Name</th>\n",
       "      <th>area_has</th>\n",
       "      <th>geometry</th>\n",
       "      <th>t_10</th>\n",
       "      <th>t_15</th>\n",
       "      <th>t_5</th>\n",
       "      <th>area_t_has</th>\n",
       "      <th>area_t_per</th>\n",
       "    </tr>\n",
       "  </thead>\n",
       "  <tbody>\n",
       "    <tr>\n",
       "      <th>0</th>\n",
       "      <td>POMPEYA</td>\n",
       "      <td>500.7</td>\n",
       "      <td>POLYGON Z ((-58.41137 -34.63788 0.00000, -58.4...</td>\n",
       "      <td>115.1</td>\n",
       "      <td>122.0</td>\n",
       "      <td>27.0</td>\n",
       "      <td>264.1</td>\n",
       "      <td>52.7</td>\n",
       "    </tr>\n",
       "    <tr>\n",
       "      <th>1</th>\n",
       "      <td>MATADEROS</td>\n",
       "      <td>502.6</td>\n",
       "      <td>POLYGON Z ((-58.51787 -34.66203 0.00000, -58.5...</td>\n",
       "      <td>0.0</td>\n",
       "      <td>0.3</td>\n",
       "      <td>0.0</td>\n",
       "      <td>0.3</td>\n",
       "      <td>0.1</td>\n",
       "    </tr>\n",
       "  </tbody>\n",
       "</table>\n",
       "</div>"
      ],
      "text/plain": [
       "        Name  area_has                                           geometry  \\\n",
       "0    POMPEYA     500.7  POLYGON Z ((-58.41137 -34.63788 0.00000, -58.4...   \n",
       "1  MATADEROS     502.6  POLYGON Z ((-58.51787 -34.66203 0.00000, -58.5...   \n",
       "\n",
       "    t_10   t_15   t_5  area_t_has  area_t_per  \n",
       "0  115.1  122.0  27.0       264.1        52.7  \n",
       "1    0.0    0.3   0.0         0.3         0.1  "
      ]
     },
     "execution_count": 11,
     "metadata": {},
     "output_type": "execute_result"
    }
   ],
   "source": [
    "gdf_aoi_small['area_t_has'] = round((gdf_aoi_small.t_10 + gdf_aoi_small.t_15 + gdf_aoi_small.t_5), 1)\n",
    "gdf_aoi_small['area_t_per'] = round(100* gdf_aoi_small['area_t_has'] / (gdf_aoi_small['area_has']), 1)\n",
    "gdf_aoi_small"
   ]
  },
  {
   "attachments": {},
   "cell_type": "markdown",
   "metadata": {},
   "source": [
    "## Add a location - POMPEYA"
   ]
  },
  {
   "cell_type": "code",
   "execution_count": 12,
   "metadata": {},
   "outputs": [],
   "source": [
    "# Create a subgraph to Pompeya, without coverage (15m away)\n",
    "gdf_aoi_pompeya = gdf_aoi.loc[[0]]\n",
    "\n",
    "gdf_edges_inter = gpd.overlay(gdf_edges, gdf_aoi_pompeya, how='intersection')\n",
    "gdf_edges_inter = gpd.overlay(gdf_edges_inter, gdf_service_areas, how='difference')\n",
    "\n",
    "gdf_edges_inter = gdf_edges_inter.rename_axis('id').reset_index()\n",
    "gdf_edges_inter = gdf_edges_inter.explode(index_parts=False)\n",
    "\n",
    "node_list_POMPEYA = list(gdf_edges_inter.node_id_st) + list(gdf_edges_inter.node_id_en)\n",
    "H = G.subgraph(node_list_POMPEYA)"
   ]
  },
  {
   "cell_type": "code",
   "execution_count": 13,
   "metadata": {},
   "outputs": [
    {
     "name": "stdout",
     "output_type": "stream",
     "text": [
      "Calculate betweenness centrality\n"
     ]
    }
   ],
   "source": [
    "# calculate edges betweenness centrality\n",
    "v_k_value = int(len(H.nodes)*0.9)\n",
    "gdf_edges_centrality = uc.calcualte_edges_centrality(H, gdf_edges_inter, centrality_type='betweenness', nodes_ids=False, v_k=v_k_value, v_weight='weight')\n",
    "gdf_edges_centrality[['osmid', 'reversed', 'node_id_st', 'node_id_en', 'centrality', 'geometry']].to_file(\"./ex_data/edges_centrality_betweenness.geojson\", driver='GeoJSON')"
   ]
  },
  {
   "cell_type": "code",
   "execution_count": 14,
   "metadata": {},
   "outputs": [
    {
     "name": "stdout",
     "output_type": "stream",
     "text": [
      "Calculate closeness centrality\n"
     ]
    }
   ],
   "source": [
    "# calculate nodes closeness centrality\n",
    "gdf_nodes_centrality = uc.calcualte_edges_centrality(H, gdf_nodes, centrality_type='closeness')\n",
    "gdf_nodes_centrality.loc[gdf_nodes_centrality.centrality.notnull()].to_file('./ex_data/nodes_centrality_closeness.geojson', driver='GeoJSON')\n"
   ]
  },
  {
   "attachments": {},
   "cell_type": "markdown",
   "metadata": {},
   "source": [
    "## Recalulate isochrones with new amenity"
   ]
  },
  {
   "cell_type": "code",
   "execution_count": 15,
   "metadata": {},
   "outputs": [
    {
     "data": {
      "text/html": [
       "<div>\n",
       "<style scoped>\n",
       "    .dataframe tbody tr th:only-of-type {\n",
       "        vertical-align: middle;\n",
       "    }\n",
       "\n",
       "    .dataframe tbody tr th {\n",
       "        vertical-align: top;\n",
       "    }\n",
       "\n",
       "    .dataframe thead th {\n",
       "        text-align: right;\n",
       "    }\n",
       "</style>\n",
       "<table border=\"1\" class=\"dataframe\">\n",
       "  <thead>\n",
       "    <tr style=\"text-align: right;\">\n",
       "      <th></th>\n",
       "      <th>src_id</th>\n",
       "      <th>category</th>\n",
       "      <th>name</th>\n",
       "      <th>geometry</th>\n",
       "    </tr>\n",
       "  </thead>\n",
       "  <tbody>\n",
       "    <tr>\n",
       "      <th>0</th>\n",
       "      <td>src_1</td>\n",
       "      <td>hospital</td>\n",
       "      <td>Hospital Neruropsiquiátrico Braulio A. Moyano</td>\n",
       "      <td>POINT (-58.38384 -34.64078)</td>\n",
       "    </tr>\n",
       "    <tr>\n",
       "      <th>1</th>\n",
       "      <td>src_2</td>\n",
       "      <td>hospital</td>\n",
       "      <td>Hospital Borda</td>\n",
       "      <td>POINT (-58.38400 -34.63685)</td>\n",
       "    </tr>\n",
       "    <tr>\n",
       "      <th>2</th>\n",
       "      <td>src_3</td>\n",
       "      <td>hospital</td>\n",
       "      <td>Hospital Muñiz</td>\n",
       "      <td>POINT (-58.39254 -34.63934)</td>\n",
       "    </tr>\n",
       "    <tr>\n",
       "      <th>3</th>\n",
       "      <td>src_4</td>\n",
       "      <td>hospital</td>\n",
       "      <td>Instituto Doctor C. G. Malbrán</td>\n",
       "      <td>POINT (-58.39060 -34.64188)</td>\n",
       "    </tr>\n",
       "    <tr>\n",
       "      <th>4</th>\n",
       "      <td>src_5</td>\n",
       "      <td>hospital</td>\n",
       "      <td>Hospital General De Agudos P. Pińero</td>\n",
       "      <td>POINT (-58.45452 -34.64478)</td>\n",
       "    </tr>\n",
       "    <tr>\n",
       "      <th>5</th>\n",
       "      <td>src_6</td>\n",
       "      <td>hospital</td>\n",
       "      <td>Maternidad Ramón Sardá</td>\n",
       "      <td>POINT (-58.40312 -34.63465)</td>\n",
       "    </tr>\n",
       "    <tr>\n",
       "      <th>6</th>\n",
       "      <td>src_7</td>\n",
       "      <td>hospital</td>\n",
       "      <td>Hospital de Pediatría \"Profesor Doctor Juan Pe...</td>\n",
       "      <td>POINT (-58.39371 -34.63109)</td>\n",
       "    </tr>\n",
       "    <tr>\n",
       "      <th>7</th>\n",
       "      <td>src_8</td>\n",
       "      <td>hospital</td>\n",
       "      <td>Hospital Complejo Médico de la Policía Federal...</td>\n",
       "      <td>POINT (-58.41061 -34.64077)</td>\n",
       "    </tr>\n",
       "    <tr>\n",
       "      <th>8</th>\n",
       "      <td>src_9</td>\n",
       "      <td>hospital</td>\n",
       "      <td>Hospital General de Agudos Jose A. Penna</td>\n",
       "      <td>POINT (-58.41031 -34.64345)</td>\n",
       "    </tr>\n",
       "    <tr>\n",
       "      <th>9</th>\n",
       "      <td>src_10</td>\n",
       "      <td>hospital</td>\n",
       "      <td>Hospital General de Agudos Doctor Cosme Argerich</td>\n",
       "      <td>POINT (-58.36557 -34.62811)</td>\n",
       "    </tr>\n",
       "    <tr>\n",
       "      <th>10</th>\n",
       "      <td>src_11</td>\n",
       "      <td>hospital</td>\n",
       "      <td>Hospital Pedro de Elizalde</td>\n",
       "      <td>POINT (-58.37645 -34.62915)</td>\n",
       "    </tr>\n",
       "    <tr>\n",
       "      <th>11</th>\n",
       "      <td>src_12</td>\n",
       "      <td>hospital</td>\n",
       "      <td>Clínica Universitaria - UAI</td>\n",
       "      <td>POINT (-58.44551 -34.66084)</td>\n",
       "    </tr>\n",
       "    <tr>\n",
       "      <th>12</th>\n",
       "      <td>src_13</td>\n",
       "      <td>hospital</td>\n",
       "      <td>Hospital Británico</td>\n",
       "      <td>POINT (-58.38900 -34.63340)</td>\n",
       "    </tr>\n",
       "    <tr>\n",
       "      <th>13</th>\n",
       "      <td>src_14</td>\n",
       "      <td>hospital</td>\n",
       "      <td>Hospital Británico</td>\n",
       "      <td>POINT (-58.38816 -34.63342)</td>\n",
       "    </tr>\n",
       "    <tr>\n",
       "      <th>14</th>\n",
       "      <td>src_15</td>\n",
       "      <td>hospital</td>\n",
       "      <td>Hospital Británico de Buenos Aires</td>\n",
       "      <td>POINT (-58.38763 -34.63429)</td>\n",
       "    </tr>\n",
       "    <tr>\n",
       "      <th>15</th>\n",
       "      <td>src_16</td>\n",
       "      <td>hospital</td>\n",
       "      <td>Hospital De Rehabilitacion Respiratoria Maria ...</td>\n",
       "      <td>POINT (-58.37570 -34.63007)</td>\n",
       "    </tr>\n",
       "    <tr>\n",
       "      <th>16</th>\n",
       "      <td>src_17</td>\n",
       "      <td>hospital</td>\n",
       "      <td>Hospital De Odontologia Infantil Don Benito Qu...</td>\n",
       "      <td>POINT (-58.36017 -34.63884)</td>\n",
       "    </tr>\n",
       "    <tr>\n",
       "      <th>17</th>\n",
       "      <td>src_18</td>\n",
       "      <td>hospital</td>\n",
       "      <td>Sanatorio San Cayetano - Osmata</td>\n",
       "      <td>POINT (-58.48907 -34.64871)</td>\n",
       "    </tr>\n",
       "    <tr>\n",
       "      <th>18</th>\n",
       "      <td>src_19</td>\n",
       "      <td>hospital</td>\n",
       "      <td>Hospital de Gastroenterología Doctor Carlos Bo...</td>\n",
       "      <td>POINT (-58.39155 -34.63403)</td>\n",
       "    </tr>\n",
       "    <tr>\n",
       "      <th>19</th>\n",
       "      <td>src_20</td>\n",
       "      <td>hospital</td>\n",
       "      <td>Hospital Aeronáutico Central</td>\n",
       "      <td>POINT (-58.41233 -34.65281)</td>\n",
       "    </tr>\n",
       "    <tr>\n",
       "      <th>20</th>\n",
       "      <td>src_21</td>\n",
       "      <td>hospital</td>\n",
       "      <td>Nuevo CEEU</td>\n",
       "      <td>POINT (-58.42526 -34.64979)</td>\n",
       "    </tr>\n",
       "  </tbody>\n",
       "</table>\n",
       "</div>"
      ],
      "text/plain": [
       "    src_id  category                                               name  \\\n",
       "0    src_1  hospital      Hospital Neruropsiquiátrico Braulio A. Moyano   \n",
       "1    src_2  hospital                                     Hospital Borda   \n",
       "2    src_3  hospital                                     Hospital Muñiz   \n",
       "3    src_4  hospital                     Instituto Doctor C. G. Malbrán   \n",
       "4    src_5  hospital               Hospital General De Agudos P. Pińero   \n",
       "5    src_6  hospital                             Maternidad Ramón Sardá   \n",
       "6    src_7  hospital  Hospital de Pediatría \"Profesor Doctor Juan Pe...   \n",
       "7    src_8  hospital  Hospital Complejo Médico de la Policía Federal...   \n",
       "8    src_9  hospital           Hospital General de Agudos Jose A. Penna   \n",
       "9   src_10  hospital   Hospital General de Agudos Doctor Cosme Argerich   \n",
       "10  src_11  hospital                         Hospital Pedro de Elizalde   \n",
       "11  src_12  hospital                        Clínica Universitaria - UAI   \n",
       "12  src_13  hospital                                 Hospital Británico   \n",
       "13  src_14  hospital                                 Hospital Británico   \n",
       "14  src_15  hospital                 Hospital Británico de Buenos Aires   \n",
       "15  src_16  hospital  Hospital De Rehabilitacion Respiratoria Maria ...   \n",
       "16  src_17  hospital  Hospital De Odontologia Infantil Don Benito Qu...   \n",
       "17  src_18  hospital                    Sanatorio San Cayetano - Osmata   \n",
       "18  src_19  hospital  Hospital de Gastroenterología Doctor Carlos Bo...   \n",
       "19  src_20  hospital                       Hospital Aeronáutico Central   \n",
       "20  src_21  hospital                                         Nuevo CEEU   \n",
       "\n",
       "                       geometry  \n",
       "0   POINT (-58.38384 -34.64078)  \n",
       "1   POINT (-58.38400 -34.63685)  \n",
       "2   POINT (-58.39254 -34.63934)  \n",
       "3   POINT (-58.39060 -34.64188)  \n",
       "4   POINT (-58.45452 -34.64478)  \n",
       "5   POINT (-58.40312 -34.63465)  \n",
       "6   POINT (-58.39371 -34.63109)  \n",
       "7   POINT (-58.41061 -34.64077)  \n",
       "8   POINT (-58.41031 -34.64345)  \n",
       "9   POINT (-58.36557 -34.62811)  \n",
       "10  POINT (-58.37645 -34.62915)  \n",
       "11  POINT (-58.44551 -34.66084)  \n",
       "12  POINT (-58.38900 -34.63340)  \n",
       "13  POINT (-58.38816 -34.63342)  \n",
       "14  POINT (-58.38763 -34.63429)  \n",
       "15  POINT (-58.37570 -34.63007)  \n",
       "16  POINT (-58.36017 -34.63884)  \n",
       "17  POINT (-58.48907 -34.64871)  \n",
       "18  POINT (-58.39155 -34.63403)  \n",
       "19  POINT (-58.41233 -34.65281)  \n",
       "20  POINT (-58.42526 -34.64979)  "
      ]
     },
     "execution_count": 15,
     "metadata": {},
     "output_type": "execute_result"
    }
   ],
   "source": [
    "# Add a new source\n",
    "gdf_new_sources = gpd.read_file(\"./ex_data/new_source.geojson\")\n",
    "gdf_new_sources = uc.build_source_gdf(gdf_new_sources, field_category='categoria', field_name=\"nombre\")\n",
    "gdf_new_sources, list_node_sources_new = uc.add_amenities(gdf_new_sources, gdf_amenities, list_node_sources, G, str_method_near_nodes=['closest'])\n",
    "gdf_new_sources"
   ]
  },
  {
   "cell_type": "code",
   "execution_count": 16,
   "metadata": {},
   "outputs": [],
   "source": [
    "# Set time limits\n",
    "list_times = [5, 10, 15]\n",
    "\n",
    "# Create isochrones, rings and edges with travel times\n",
    "# long function - output: edges, isochrones, rings\n",
    "list_costs_buffers = []\n",
    "for v_cost_limit in list_times:\n",
    "    df_edges_cost_limit = uc.calculate_service_edges(G, gdf_nodes, gdf_edges, 'weight', v_cost_limit, list_node_sources_new)\n",
    "    df_edges_cost_limit = df_edges_cost_limit[['node_id_st', 'node_id_en', 'weight', 'w_start', 'w_end', 'w_mean', 'w_limit', 'geometry']]\n",
    "    df_edges_cost_limit.to_file(f\"./ex_data/new_edges_weight_{v_cost_limit}.geojson\", driver='GeoJSON')\n",
    "    gdf_buffer = uc.create_isochrones(df_edges_cost_limit, \"3857\", 5, 100)\n",
    "    gdf_buffer.to_file(f\"./ex_data/new_isochrones_weight_{v_cost_limit}.geojson\", driver='GeoJSON')\n",
    "    list_costs_buffers.append(gdf_buffer)\n",
    "\n",
    "gdf_service_areas = uc.merge_isochrones_polygons( list_costs_buffers, 'rings')\n",
    "gdf_service_areas.to_file(\"./ex_data/new_isochrones_rings.geojson\", driver='GeoJSON')"
   ]
  },
  {
   "cell_type": "code",
   "execution_count": 17,
   "metadata": {},
   "outputs": [
    {
     "data": {
      "text/html": [
       "<div>\n",
       "<style scoped>\n",
       "    .dataframe tbody tr th:only-of-type {\n",
       "        vertical-align: middle;\n",
       "    }\n",
       "\n",
       "    .dataframe tbody tr th {\n",
       "        vertical-align: top;\n",
       "    }\n",
       "\n",
       "    .dataframe thead th {\n",
       "        text-align: right;\n",
       "    }\n",
       "</style>\n",
       "<table border=\"1\" class=\"dataframe\">\n",
       "  <thead>\n",
       "    <tr style=\"text-align: right;\">\n",
       "      <th>w_limit</th>\n",
       "      <th>Name</th>\n",
       "      <th>t2_10</th>\n",
       "      <th>t2_15</th>\n",
       "      <th>t2_5</th>\n",
       "    </tr>\n",
       "  </thead>\n",
       "  <tbody>\n",
       "    <tr>\n",
       "      <th>0</th>\n",
       "      <td>MATADEROS</td>\n",
       "      <td>0.0</td>\n",
       "      <td>0.3</td>\n",
       "      <td>0.0</td>\n",
       "    </tr>\n",
       "    <tr>\n",
       "      <th>1</th>\n",
       "      <td>POMPEYA</td>\n",
       "      <td>201.9</td>\n",
       "      <td>153.8</td>\n",
       "      <td>52.6</td>\n",
       "    </tr>\n",
       "  </tbody>\n",
       "</table>\n",
       "</div>"
      ],
      "text/plain": [
       "w_limit       Name  t2_10  t2_15  t2_5\n",
       "0        MATADEROS    0.0    0.3   0.0\n",
       "1          POMPEYA  201.9  153.8  52.6"
      ]
     },
     "execution_count": 17,
     "metadata": {},
     "output_type": "execute_result"
    }
   ],
   "source": [
    "gdf_aoi_small_inter_2 = gpd.overlay(gdf_aoi_small, gdf_service_areas, how='intersection')\n",
    "gdf_aoi_small_inter_2 = gdf_aoi_small_inter_2.to_crs(\"3857\")\n",
    "gdf_aoi_small_inter_2['t_area_m'] =  round(gdf_aoi_small_inter_2.area/10000, 1) \n",
    "gdf_aoi_small_inter_2.w_limit = \"t2_\"+gdf_aoi_small_inter_2.w_limit.astype(str)\n",
    "\n",
    "df_isochrones_data_2 = gdf_aoi_small_inter_2.pivot_table(index='Name', columns='w_limit', values='t_area_m').reset_index()\n",
    "df_isochrones_data_2.fillna(0, inplace=True)\n",
    "df_isochrones_data_2"
   ]
  },
  {
   "cell_type": "code",
   "execution_count": 18,
   "metadata": {},
   "outputs": [
    {
     "data": {
      "text/html": [
       "<div>\n",
       "<style scoped>\n",
       "    .dataframe tbody tr th:only-of-type {\n",
       "        vertical-align: middle;\n",
       "    }\n",
       "\n",
       "    .dataframe tbody tr th {\n",
       "        vertical-align: top;\n",
       "    }\n",
       "\n",
       "    .dataframe thead th {\n",
       "        text-align: right;\n",
       "    }\n",
       "</style>\n",
       "<table border=\"1\" class=\"dataframe\">\n",
       "  <thead>\n",
       "    <tr style=\"text-align: right;\">\n",
       "      <th></th>\n",
       "      <th>Name</th>\n",
       "      <th>area_has</th>\n",
       "      <th>geometry</th>\n",
       "      <th>t_10</th>\n",
       "      <th>t_15</th>\n",
       "      <th>t_5</th>\n",
       "      <th>area_t_has</th>\n",
       "      <th>area_t_per</th>\n",
       "      <th>t2_10</th>\n",
       "      <th>t2_15</th>\n",
       "      <th>t2_5</th>\n",
       "    </tr>\n",
       "  </thead>\n",
       "  <tbody>\n",
       "    <tr>\n",
       "      <th>0</th>\n",
       "      <td>POMPEYA</td>\n",
       "      <td>500.7</td>\n",
       "      <td>POLYGON Z ((-58.41137 -34.63788 0.00000, -58.4...</td>\n",
       "      <td>115.1</td>\n",
       "      <td>122.0</td>\n",
       "      <td>27.0</td>\n",
       "      <td>264.1</td>\n",
       "      <td>52.7</td>\n",
       "      <td>201.9</td>\n",
       "      <td>153.8</td>\n",
       "      <td>52.6</td>\n",
       "    </tr>\n",
       "    <tr>\n",
       "      <th>1</th>\n",
       "      <td>MATADEROS</td>\n",
       "      <td>502.6</td>\n",
       "      <td>POLYGON Z ((-58.51787 -34.66203 0.00000, -58.5...</td>\n",
       "      <td>0.0</td>\n",
       "      <td>0.3</td>\n",
       "      <td>0.0</td>\n",
       "      <td>0.3</td>\n",
       "      <td>0.1</td>\n",
       "      <td>0.0</td>\n",
       "      <td>0.3</td>\n",
       "      <td>0.0</td>\n",
       "    </tr>\n",
       "  </tbody>\n",
       "</table>\n",
       "</div>"
      ],
      "text/plain": [
       "        Name  area_has                                           geometry  \\\n",
       "0    POMPEYA     500.7  POLYGON Z ((-58.41137 -34.63788 0.00000, -58.4...   \n",
       "1  MATADEROS     502.6  POLYGON Z ((-58.51787 -34.66203 0.00000, -58.5...   \n",
       "\n",
       "    t_10   t_15   t_5  area_t_has  area_t_per  t2_10  t2_15  t2_5  \n",
       "0  115.1  122.0  27.0       264.1        52.7  201.9  153.8  52.6  \n",
       "1    0.0    0.3   0.0         0.3         0.1    0.0    0.3   0.0  "
      ]
     },
     "execution_count": 18,
     "metadata": {},
     "output_type": "execute_result"
    }
   ],
   "source": [
    "gdf_aoi_small = gdf_aoi_small.merge(df_isochrones_data_2, on='Name', how='left')\n",
    "gdf_aoi_small"
   ]
  },
  {
   "cell_type": "code",
   "execution_count": 19,
   "metadata": {},
   "outputs": [
    {
     "data": {
      "text/html": [
       "<div>\n",
       "<style scoped>\n",
       "    .dataframe tbody tr th:only-of-type {\n",
       "        vertical-align: middle;\n",
       "    }\n",
       "\n",
       "    .dataframe tbody tr th {\n",
       "        vertical-align: top;\n",
       "    }\n",
       "\n",
       "    .dataframe thead th {\n",
       "        text-align: right;\n",
       "    }\n",
       "</style>\n",
       "<table border=\"1\" class=\"dataframe\">\n",
       "  <thead>\n",
       "    <tr style=\"text-align: right;\">\n",
       "      <th></th>\n",
       "      <th>Name</th>\n",
       "      <th>area_has</th>\n",
       "      <th>geometry</th>\n",
       "      <th>t_10</th>\n",
       "      <th>t_15</th>\n",
       "      <th>t_5</th>\n",
       "      <th>area_t_has</th>\n",
       "      <th>area_t_per</th>\n",
       "      <th>t2_10</th>\n",
       "      <th>t2_15</th>\n",
       "      <th>t2_5</th>\n",
       "      <th>area_t2_has</th>\n",
       "      <th>area_t2_per</th>\n",
       "    </tr>\n",
       "  </thead>\n",
       "  <tbody>\n",
       "    <tr>\n",
       "      <th>0</th>\n",
       "      <td>POMPEYA</td>\n",
       "      <td>500.7</td>\n",
       "      <td>POLYGON Z ((-58.41137 -34.63788 0.00000, -58.4...</td>\n",
       "      <td>115.1</td>\n",
       "      <td>122.0</td>\n",
       "      <td>27.0</td>\n",
       "      <td>264.1</td>\n",
       "      <td>52.7</td>\n",
       "      <td>201.9</td>\n",
       "      <td>153.8</td>\n",
       "      <td>52.6</td>\n",
       "      <td>408.3</td>\n",
       "      <td>81.5</td>\n",
       "    </tr>\n",
       "    <tr>\n",
       "      <th>1</th>\n",
       "      <td>MATADEROS</td>\n",
       "      <td>502.6</td>\n",
       "      <td>POLYGON Z ((-58.51787 -34.66203 0.00000, -58.5...</td>\n",
       "      <td>0.0</td>\n",
       "      <td>0.3</td>\n",
       "      <td>0.0</td>\n",
       "      <td>0.3</td>\n",
       "      <td>0.1</td>\n",
       "      <td>0.0</td>\n",
       "      <td>0.3</td>\n",
       "      <td>0.0</td>\n",
       "      <td>0.3</td>\n",
       "      <td>0.1</td>\n",
       "    </tr>\n",
       "  </tbody>\n",
       "</table>\n",
       "</div>"
      ],
      "text/plain": [
       "        Name  area_has                                           geometry  \\\n",
       "0    POMPEYA     500.7  POLYGON Z ((-58.41137 -34.63788 0.00000, -58.4...   \n",
       "1  MATADEROS     502.6  POLYGON Z ((-58.51787 -34.66203 0.00000, -58.5...   \n",
       "\n",
       "    t_10   t_15   t_5  area_t_has  area_t_per  t2_10  t2_15  t2_5  \\\n",
       "0  115.1  122.0  27.0       264.1        52.7  201.9  153.8  52.6   \n",
       "1    0.0    0.3   0.0         0.3         0.1    0.0    0.3   0.0   \n",
       "\n",
       "   area_t2_has  area_t2_per  \n",
       "0        408.3         81.5  \n",
       "1          0.3          0.1  "
      ]
     },
     "execution_count": 19,
     "metadata": {},
     "output_type": "execute_result"
    }
   ],
   "source": [
    "gdf_aoi_small['area_t2_has'] = round((gdf_aoi_small.t2_10 + gdf_aoi_small.t2_15 + gdf_aoi_small.t2_5), 1)\n",
    "gdf_aoi_small['area_t2_per'] = round(100* gdf_aoi_small['area_t2_has'] / (gdf_aoi_small['area_has']), 1)\n",
    "gdf_aoi_small"
   ]
  },
  {
   "cell_type": "code",
   "execution_count": 20,
   "metadata": {},
   "outputs": [
    {
     "data": {
      "text/html": [
       "<div>\n",
       "<style scoped>\n",
       "    .dataframe tbody tr th:only-of-type {\n",
       "        vertical-align: middle;\n",
       "    }\n",
       "\n",
       "    .dataframe tbody tr th {\n",
       "        vertical-align: top;\n",
       "    }\n",
       "\n",
       "    .dataframe thead th {\n",
       "        text-align: right;\n",
       "    }\n",
       "</style>\n",
       "<table border=\"1\" class=\"dataframe\">\n",
       "  <thead>\n",
       "    <tr style=\"text-align: right;\">\n",
       "      <th></th>\n",
       "      <th>area_t_has</th>\n",
       "      <th>area_t2_has</th>\n",
       "      <th>area_t_per</th>\n",
       "      <th>area_t2_per</th>\n",
       "    </tr>\n",
       "  </thead>\n",
       "  <tbody>\n",
       "    <tr>\n",
       "      <th>0</th>\n",
       "      <td>264.1</td>\n",
       "      <td>408.3</td>\n",
       "      <td>52.7</td>\n",
       "      <td>81.5</td>\n",
       "    </tr>\n",
       "    <tr>\n",
       "      <th>1</th>\n",
       "      <td>0.3</td>\n",
       "      <td>0.3</td>\n",
       "      <td>0.1</td>\n",
       "      <td>0.1</td>\n",
       "    </tr>\n",
       "  </tbody>\n",
       "</table>\n",
       "</div>"
      ],
      "text/plain": [
       "   area_t_has  area_t2_has  area_t_per  area_t2_per\n",
       "0       264.1        408.3        52.7         81.5\n",
       "1         0.3          0.3         0.1          0.1"
      ]
     },
     "execution_count": 20,
     "metadata": {},
     "output_type": "execute_result"
    }
   ],
   "source": [
    "gdf_aoi_small[['area_t_has', 'area_t2_has', 'area_t_per', 'area_t2_per']]"
   ]
  }
 ],
 "metadata": {
  "kernelspec": {
   "display_name": "AppCEEU",
   "language": "python",
   "name": "python3"
  },
  "language_info": {
   "codemirror_mode": {
    "name": "ipython",
    "version": 3
   },
   "file_extension": ".py",
   "mimetype": "text/x-python",
   "name": "python",
   "nbconvert_exporter": "python",
   "pygments_lexer": "ipython3",
   "version": "3.11.4"
  },
  "orig_nbformat": 4,
  "vscode": {
   "interpreter": {
    "hash": "951a8cd6718c152eea187e108ef1d11fe27074041dcab19017b9be2f5a987f76"
   }
  }
 },
 "nbformat": 4,
 "nbformat_minor": 2
}
