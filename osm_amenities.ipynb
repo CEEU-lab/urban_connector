{
 "cells": [
  {
   "cell_type": "code",
   "execution_count": 1,
   "metadata": {},
   "outputs": [],
   "source": [
    "import geopandas as gpd\n",
    "import urban_connector as uc"
   ]
  },
  {
   "attachments": {},
   "cell_type": "markdown",
   "metadata": {},
   "source": [
    "# Area of interest (AOI)"
   ]
  },
  {
   "cell_type": "code",
   "execution_count": 2,
   "metadata": {},
   "outputs": [],
   "source": [
    "# load AOI polygon\n",
    "gdf_poly = gpd.read_file(\"./ex_data/bs_as.geojson\")"
   ]
  },
  {
   "attachments": {},
   "cell_type": "markdown",
   "metadata": {},
   "source": [
    "# Graph"
   ]
  },
  {
   "cell_type": "code",
   "execution_count": 3,
   "metadata": {},
   "outputs": [],
   "source": [
    "# Create graph\n",
    "G = uc.osmnx_graph_from_polygon(gdf_poly, 'walk', 4.5)"
   ]
  },
  {
   "cell_type": "code",
   "execution_count": 4,
   "metadata": {},
   "outputs": [],
   "source": [
    "# Create network nodes and lines\n",
    "gdf_nodes, gdf_edges, dict_mapping_nodes = uc.create_geodata_from_graph(G)"
   ]
  },
  {
   "cell_type": "code",
   "execution_count": 5,
   "metadata": {},
   "outputs": [],
   "source": [
    "# Export nodes and lines\n",
    "# gdf_nodes.to_file('./ex_data/nodes_all.shp')\n",
    "# gdf_edges[['osmid', 'reversed', 'node_id_st', 'node_id_en', 'geometry']].to_file('./ex_data/edges_all.shp')"
   ]
  },
  {
   "attachments": {},
   "cell_type": "markdown",
   "metadata": {},
   "source": [
    "# Sources"
   ]
  },
  {
   "cell_type": "code",
   "execution_count": 7,
   "metadata": {},
   "outputs": [],
   "source": [
    "# Set amenities to download and the boundary polygon\n",
    "amenities = [\"hospital\"] # \"pharmacy\", \"hospital\", \"school\"\n",
    "boundary_polygon = gdf_poly.loc[0, \"geometry\"]"
   ]
  },
  {
   "cell_type": "code",
   "execution_count": 8,
   "metadata": {},
   "outputs": [
    {
     "name": "stdout",
     "output_type": "stream",
     "text": [
      "108\n"
     ]
    },
    {
     "name": "stderr",
     "output_type": "stream",
     "text": [
      "d:\\GIT\\urban_connector\\urban_connector\\manager\\sources_manager.py:30: UserWarning: The `geometries` module and `geometries_from_X` functions have been renamed the `features` module and `features_from_X` functions. Use these instead. The `geometries` module and function names are deprecated and will be removed in a future release.\n",
      "  gdf_amenities = ox.geometries_from_polygon(poly_boundary, tags={\"amenity\": amenities}).loc[:, [\"name\", \"amenity\", \"geometry\"]].reset_index(drop=True)\n",
      "d:\\GIT\\urban_connector\\urban_connector\\manager\\sources_manager.py:31: UserWarning: Geometry is in a geographic CRS. Results from 'centroid' are likely incorrect. Use 'GeoSeries.to_crs()' to re-project geometries to a projected CRS before this operation.\n",
      "\n",
      "  gdf_amenities.geometry = gdf_amenities.geometry.centroid\n"
     ]
    }
   ],
   "source": [
    "# Download amenities from OSM\n",
    "gdf_amenities = uc.get_amenities(boundary_polygon, amenities)\n",
    "print(len(gdf_amenities))"
   ]
  },
  {
   "cell_type": "code",
   "execution_count": 9,
   "metadata": {},
   "outputs": [],
   "source": [
    "# Find all nodes closest to sources\n",
    "list_node_sources = uc.closest_nodes_to_sources(G, gdf_amenities)"
   ]
  },
  {
   "cell_type": "code",
   "execution_count": 6,
   "metadata": {},
   "outputs": [],
   "source": [
    "# list of nodes by buffer\n",
    "# list_node_sources_by_buffer = search_node_near_to_sources (gdf_amenities, gdf_nodes, search_radio=50)"
   ]
  },
  {
   "attachments": {},
   "cell_type": "markdown",
   "metadata": {},
   "source": [
    "# Isochrones"
   ]
  },
  {
   "cell_type": "code",
   "execution_count": 19,
   "metadata": {},
   "outputs": [],
   "source": [
    "# Set time limits\n",
    "list_times = [5, 10, 15]"
   ]
  },
  {
   "cell_type": "code",
   "execution_count": 20,
   "metadata": {},
   "outputs": [
    {
     "name": "stderr",
     "output_type": "stream",
     "text": [
      "c:\\Users\\Compumar\\Documents\\PythonEnvs\\AppCEEU\\Lib\\site-packages\\geopandas\\geodataframe.py:2451: UserWarning: `keep_geom_type=True` in overlay resulted in 80 dropped geometries of different geometry types than df1 has. Set `keep_geom_type=False` to retain all geometries\n",
      "  return geopandas.overlay(\n"
     ]
    }
   ],
   "source": [
    "# Create isochrones, rings and edges with travel times\n",
    "# long function - output: edges, isochrones, rings\n",
    "list_costs_buffers = []\n",
    "for v_cost_limit in list_times:\n",
    "    df_edges_cost_limit = uc.calculate_service_edges(G, gdf_nodes, gdf_edges, 'weight', v_cost_limit, list_node_sources)\n",
    "    df_edges_cost_limit = df_edges_cost_limit[['node_id_st', 'node_id_en', 'weight', 'w_start', 'w_end', 'w_mean', 'w_limit', 'geometry']]\n",
    "    df_edges_cost_limit.to_file(f\"./ex_data/edges_weight_{v_cost_limit}.shp\")\n",
    "    gdf_buffer = uc.create_service_area(df_edges_cost_limit, \"3857\", 5, 100)\n",
    "    gdf_buffer.to_file(f\"./ex_data/isochrones_weight_{v_cost_limit}.shp\")\n",
    "    list_costs_buffers.append(gdf_buffer)\n",
    "\n",
    "gdf_service_areas = uc.merge_service_areas_polygons( list_costs_buffers, 'rings')\n",
    "gdf_service_areas.to_file(\"./ex_data/isochrones_rings.shp\")"
   ]
  },
  {
   "cell_type": "code",
   "execution_count": null,
   "metadata": {},
   "outputs": [],
   "source": [
    "# Create isochrones, rings and edges with travel times\n",
    "# short function - output: only rings\n",
    "\"\"\" gdf_service_areas_multiple_cost = uc.create_service_area_for_multiple_weights(G, gdf_nodes, gdf_edges, 'weight', [5, 10, 15], list_node_sources, \n",
    "                                       5, 100, 'rings')\n",
    "gdf_service_areas_multiple_cost.to_file(\"./ex_data/isochrones.shp\") \"\"\""
   ]
  },
  {
   "attachments": {},
   "cell_type": "markdown",
   "metadata": {},
   "source": [
    "# ADD NEW SOURCE"
   ]
  },
  {
   "cell_type": "code",
   "execution_count": 10,
   "metadata": {},
   "outputs": [
    {
     "data": {
      "text/html": [
       "<div>\n",
       "<style scoped>\n",
       "    .dataframe tbody tr th:only-of-type {\n",
       "        vertical-align: middle;\n",
       "    }\n",
       "\n",
       "    .dataframe tbody tr th {\n",
       "        vertical-align: top;\n",
       "    }\n",
       "\n",
       "    .dataframe thead th {\n",
       "        text-align: right;\n",
       "    }\n",
       "</style>\n",
       "<table border=\"1\" class=\"dataframe\">\n",
       "  <thead>\n",
       "    <tr style=\"text-align: right;\">\n",
       "      <th></th>\n",
       "      <th>src_id</th>\n",
       "      <th>category</th>\n",
       "      <th>name</th>\n",
       "      <th>geometry</th>\n",
       "    </tr>\n",
       "  </thead>\n",
       "  <tbody>\n",
       "    <tr>\n",
       "      <th>0</th>\n",
       "      <td>src_1</td>\n",
       "      <td>hospital</td>\n",
       "      <td>Sanatorio De La Providencia</td>\n",
       "      <td>POINT (-58.39366 -34.60195)</td>\n",
       "    </tr>\n",
       "    <tr>\n",
       "      <th>1</th>\n",
       "      <td>src_2</td>\n",
       "      <td>hospital</td>\n",
       "      <td>Sanatorio Anchorena</td>\n",
       "      <td>POINT (-58.40030 -34.58922)</td>\n",
       "    </tr>\n",
       "    <tr>\n",
       "      <th>2</th>\n",
       "      <td>src_3</td>\n",
       "      <td>hospital</td>\n",
       "      <td>Instituto Sacre Coeur</td>\n",
       "      <td>POINT (-58.41165 -34.59528)</td>\n",
       "    </tr>\n",
       "    <tr>\n",
       "      <th>3</th>\n",
       "      <td>src_4</td>\n",
       "      <td>hospital</td>\n",
       "      <td>Sanatorio Franchín</td>\n",
       "      <td>POINT (-58.41669 -34.60938)</td>\n",
       "    </tr>\n",
       "    <tr>\n",
       "      <th>4</th>\n",
       "      <td>src_5</td>\n",
       "      <td>hospital</td>\n",
       "      <td>Centro de Diagnóstico Parque</td>\n",
       "      <td>POINT (-58.49761 -34.60095)</td>\n",
       "    </tr>\n",
       "    <tr>\n",
       "      <th>...</th>\n",
       "      <td>...</td>\n",
       "      <td>...</td>\n",
       "      <td>...</td>\n",
       "      <td>...</td>\n",
       "    </tr>\n",
       "    <tr>\n",
       "      <th>104</th>\n",
       "      <td>src_105</td>\n",
       "      <td>hospital</td>\n",
       "      <td>Climedica</td>\n",
       "      <td>POINT (-58.40183 -34.62162)</td>\n",
       "    </tr>\n",
       "    <tr>\n",
       "      <th>105</th>\n",
       "      <td>src_106</td>\n",
       "      <td>hospital</td>\n",
       "      <td>Hospital Aeronáutico Central</td>\n",
       "      <td>POINT (-58.41233 -34.65281)</td>\n",
       "    </tr>\n",
       "    <tr>\n",
       "      <th>106</th>\n",
       "      <td>src_107</td>\n",
       "      <td>hospital</td>\n",
       "      <td>Hospital Italiano de Buenos Aires</td>\n",
       "      <td>POINT (-58.42365 -34.60784)</td>\n",
       "    </tr>\n",
       "    <tr>\n",
       "      <th>107</th>\n",
       "      <td>src_108</td>\n",
       "      <td>hospital</td>\n",
       "      <td>Hospital Militar Central Cirujano Mayor Doctor...</td>\n",
       "      <td>POINT (-58.43722 -34.57053)</td>\n",
       "    </tr>\n",
       "    <tr>\n",
       "      <th>108</th>\n",
       "      <td>src_109</td>\n",
       "      <td>hospital nuevo</td>\n",
       "      <td>Nuevo Hospital CEEU</td>\n",
       "      <td>POINT (-58.48262 -34.60763)</td>\n",
       "    </tr>\n",
       "  </tbody>\n",
       "</table>\n",
       "<p>109 rows × 4 columns</p>\n",
       "</div>"
      ],
      "text/plain": [
       "      src_id        category  \\\n",
       "0      src_1        hospital   \n",
       "1      src_2        hospital   \n",
       "2      src_3        hospital   \n",
       "3      src_4        hospital   \n",
       "4      src_5        hospital   \n",
       "..       ...             ...   \n",
       "104  src_105        hospital   \n",
       "105  src_106        hospital   \n",
       "106  src_107        hospital   \n",
       "107  src_108        hospital   \n",
       "108  src_109  hospital nuevo   \n",
       "\n",
       "                                                  name  \\\n",
       "0                          Sanatorio De La Providencia   \n",
       "1                                  Sanatorio Anchorena   \n",
       "2                                Instituto Sacre Coeur   \n",
       "3                                   Sanatorio Franchín   \n",
       "4                         Centro de Diagnóstico Parque   \n",
       "..                                                 ...   \n",
       "104                                          Climedica   \n",
       "105                       Hospital Aeronáutico Central   \n",
       "106                  Hospital Italiano de Buenos Aires   \n",
       "107  Hospital Militar Central Cirujano Mayor Doctor...   \n",
       "108                                Nuevo Hospital CEEU   \n",
       "\n",
       "                        geometry  \n",
       "0    POINT (-58.39366 -34.60195)  \n",
       "1    POINT (-58.40030 -34.58922)  \n",
       "2    POINT (-58.41165 -34.59528)  \n",
       "3    POINT (-58.41669 -34.60938)  \n",
       "4    POINT (-58.49761 -34.60095)  \n",
       "..                           ...  \n",
       "104  POINT (-58.40183 -34.62162)  \n",
       "105  POINT (-58.41233 -34.65281)  \n",
       "106  POINT (-58.42365 -34.60784)  \n",
       "107  POINT (-58.43722 -34.57053)  \n",
       "108  POINT (-58.48262 -34.60763)  \n",
       "\n",
       "[109 rows x 4 columns]"
      ]
     },
     "execution_count": 10,
     "metadata": {},
     "output_type": "execute_result"
    }
   ],
   "source": [
    "# Add a new source\n",
    "gdf_new_sources = gpd.read_file(\"./ex_data/new_source.shp\")\n",
    "gdf_new_sources = uc.build_source_gdf(gdf_new_sources, field_category='categoria', field_name=\"nombre\")\n",
    "gdf_new_sources, list_node_sources_new = uc.add_amenities(gdf_new_sources, gdf_amenities, list_node_sources, G, str_method_near_nodes=['closest'])\n",
    "gdf_new_sources"
   ]
  },
  {
   "cell_type": "code",
   "execution_count": 11,
   "metadata": {},
   "outputs": [
    {
     "name": "stderr",
     "output_type": "stream",
     "text": [
      "c:\\Users\\Compumar\\Documents\\PythonEnvs\\AppCEEU\\Lib\\site-packages\\geopandas\\geodataframe.py:2451: UserWarning: `keep_geom_type=True` in overlay resulted in 93 dropped geometries of different geometry types than df1 has. Set `keep_geom_type=False` to retain all geometries\n",
      "  return geopandas.overlay(\n"
     ]
    }
   ],
   "source": [
    "# Set time limits\n",
    "list_times = [5, 10, 15]\n",
    "\n",
    "# Create isochrones, rings and edges with travel times\n",
    "# long function - output: edges, isochrones, rings\n",
    "list_costs_buffers = []\n",
    "for v_cost_limit in [5, 10, 15]:\n",
    "    df_edges_cost_limit = uc.calculate_service_edges(G, gdf_nodes, gdf_edges, 'weight', v_cost_limit, list_node_sources_new)\n",
    "    df_edges_cost_limit = df_edges_cost_limit[['node_id_st', 'node_id_en', 'weight', 'w_start', 'w_end', 'w_mean', 'w_limit', 'geometry']]\n",
    "    df_edges_cost_limit.to_file(f\"./ex_data/new_edges_weight_{v_cost_limit}.shp\")\n",
    "    gdf_buffer = uc.create_service_area(df_edges_cost_limit, \"3857\", 5, 100)\n",
    "    gdf_buffer.to_file(f\"./ex_data/new_isochrones_weight_{v_cost_limit}.shp\")\n",
    "    list_costs_buffers.append(gdf_buffer)\n",
    "\n",
    "gdf_service_areas = uc.merge_service_areas_polygons( list_costs_buffers, 'rings')\n",
    "gdf_service_areas.to_file(\"./ex_data/new_isochrones_rings.shp\")"
   ]
  },
  {
   "cell_type": "code",
   "execution_count": null,
   "metadata": {},
   "outputs": [],
   "source": []
  }
 ],
 "metadata": {
  "kernelspec": {
   "display_name": "AppCEEU",
   "language": "python",
   "name": "python3"
  },
  "language_info": {
   "codemirror_mode": {
    "name": "ipython",
    "version": 3
   },
   "file_extension": ".py",
   "mimetype": "text/x-python",
   "name": "python",
   "nbconvert_exporter": "python",
   "pygments_lexer": "ipython3",
   "version": "3.11.4"
  },
  "orig_nbformat": 4,
  "vscode": {
   "interpreter": {
    "hash": "951a8cd6718c152eea187e108ef1d11fe27074041dcab19017b9be2f5a987f76"
   }
  }
 },
 "nbformat": 4,
 "nbformat_minor": 2
}
