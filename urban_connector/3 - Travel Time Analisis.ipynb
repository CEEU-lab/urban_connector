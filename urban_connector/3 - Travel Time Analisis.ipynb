{
 "cells": [
  {
   "cell_type": "code",
   "execution_count": 1,
   "metadata": {},
   "outputs": [],
   "source": [
    "import time\n",
    "import copy\n",
    "\n",
    "import pandas as pd\n",
    "import geopandas as gpd\n",
    "import spatial_network_analysis as sna\n",
    "\n",
    "import numpy as np\n",
    "import pandas as pd\n",
    "from shapely.geometry import MultiPoint, LineString, Polygon\n",
    "import momepy\n",
    "import networkx as nx"
   ]
  },
  {
   "attachments": {},
   "cell_type": "markdown",
   "metadata": {},
   "source": [
    "# Create Graph - DONE\n",
    "# define projected crs "
   ]
  },
  {
   "cell_type": "code",
   "execution_count": 7,
   "metadata": {},
   "outputs": [
    {
     "name": "stderr",
     "output_type": "stream",
     "text": [
      "/tmp/ipykernel_802967/1361442260.py:3: FutureWarning: Currently, index_parts defaults to True, but in the future, it will default to False to be consistent with Pandas. Use `index_parts=True` to keep the current behavior and True/False to silence the warning.\n",
      "  gdf_streets = gdf_streets.explode().reset_index(drop=True)\n",
      "/tmp/ipykernel_802967/1361442260.py:12: UserWarning: Column names longer than 10 characters will be truncated when saved to ESRI Shapefile.\n",
      "  gdf_streets[['id', 'len_m', 'ttime_walking', 'geometry']].to_file(\"data/Calles_topo_timetravel.shp\")\n"
     ]
    }
   ],
   "source": [
    "#gdf_streets = gpd.read_file(\"../2_Datos_Procesados/Calles_CII/Calles_topo.shp\")\n",
    "gdf_streets = gpd.read_file(\"data/CabaStreet_wgs84.zip\")\n",
    "gdf_streets = gdf_streets.explode().reset_index(drop=True)\n",
    "\n",
    "gdf_streets = gdf_streets.to_crs(\"EPSG:5347\") # ESTO PUEDE SER GENERICO DESDE UN CONFIG\n",
    "gdf_streets['len_m'] = gdf_streets.length\n",
    "gdf_streets.len_m = round(gdf_streets.len_m, 2)\n",
    "gdf_streets = gdf_streets.to_crs(\"EPSG:4326\")\n",
    "gdf_streets['ttime_walking'] = gdf_streets['len_m'] / 80 # O POR 60'?\n",
    "gdf_streets['id'] = list(gdf_streets.index)\n",
    "\n",
    "gdf_streets[['id', 'len_m', 'ttime_walking', 'geometry']].to_file(\"data/Calles_topo_timetravel.shp\")"
   ]
  },
  {
   "cell_type": "code",
   "execution_count": 8,
   "metadata": {},
   "outputs": [
    {
     "name": "stdout",
     "output_type": "stream",
     "text": [
      "17844 17844\n"
     ]
    }
   ],
   "source": [
    "gdf, G, nodes, edges, mapping_nodes = sna.create_graph_from_file(\"data/Calles_topo_timetravel.shp\", \"3857\")\n",
    "print(len(G.nodes), len(mapping_nodes['map_nodes']))"
   ]
  },
  {
   "attachments": {},
   "cell_type": "markdown",
   "metadata": {},
   "source": [
    "# LOOP OVER LOCATIONS"
   ]
  },
  {
   "cell_type": "code",
   "execution_count": 35,
   "metadata": {},
   "outputs": [
    {
     "data": {
      "text/plain": [
       "1896"
      ]
     },
     "execution_count": 35,
     "metadata": {},
     "output_type": "execute_result"
    }
   ],
   "source": [
    "gdf_locations = gpd.read_file(\"data/public_space.geojson\", driver=\"GeoJSON\")\n",
    "\n",
    "len(gdf_locations)"
   ]
  },
  {
   "cell_type": "code",
   "execution_count": 40,
   "metadata": {},
   "outputs": [
    {
     "name": "stdout",
     "output_type": "stream",
     "text": [
      "194\n"
     ]
    }
   ],
   "source": [
    "#gdf_locations = gpd.read_file(\"data/public_space.geojson\", driver=\"GeoJSON\")\n",
    "gdf_locations = gdf_locations.to_crs(\"3857\")\n",
    "gdf_locations = gdf_locations.explode(index_parts=True).reset_index(drop=True)\n",
    "gdf_locations = gdf_locations.loc[gdf_locations.COMUNA == 5].reset_index(drop=True)\n",
    "gdf_locations['id'] = list(gdf_locations.index +1)\n",
    "gdf_locations.to_file(\"data/locations.geojson\", driver='GeoJSON')\n",
    "# gdf_locations = gdf_locations.iloc[:5]\n",
    "print(len(gdf_locations))\n",
    "v_loc_type = 'polygon'"
   ]
  },
  {
   "cell_type": "code",
   "execution_count": 41,
   "metadata": {},
   "outputs": [
    {
     "data": {
      "text/plain": [
       "<Axes: >"
      ]
     },
     "execution_count": 41,
     "metadata": {},
     "output_type": "execute_result"
    },
    {
     "data": {
      "image/png": "[encoded data removed]",
      "text/plain": [
       "<Figure size 640x480 with 1 Axes>"
      ]
     },
     "metadata": {},
     "output_type": "display_data"
    }
   ],
   "source": [
    "gdf_locations.plot()"
   ]
  },
  {
   "cell_type": "code",
   "execution_count": 4,
   "metadata": {},
   "outputs": [
    {
     "data": {
      "text/plain": [
       "' print(len(G.nodes), len(mapping_nodes[\\'map_nodes\\']))\\ngdf_locations_389 = gdf_locations.loc[(gdf_locations.id == 389)]\\ngdf_locations_389.to_file(\"./data_output/locations_389.geojson\", driver=\\'GeoJSON\\')\\ngdf_service_edges_389, gdf_service_locs_edges_389, gpd_all_service_areas_389 = sna.create_service_areas_for_locations(gdf_locations_389, \\'polygon\\', G, nodes, edges, mapping_nodes, [5, 10, 15], \\'ttime_walk\\', 20, 10, 200)\\ngdf_service_edges_389.to_file(\"./data_output/service_area_edges_389.geojson\", driver=\\'GeoJSON\\')\\ngdf_service_locs_edges_389.to_file(\"./data_output/service_area_locs_edges_389.geojson\", driver=\\'GeoJSON\\')\\nprint(len(G.nodes), len(mapping_nodes[\\'map_nodes\\'])) '"
      ]
     },
     "execution_count": 4,
     "metadata": {},
     "output_type": "execute_result"
    }
   ],
   "source": [
    "# error por suma de costo\n",
    "\"\"\" print(len(G.nodes), len(mapping_nodes['map_nodes']))\n",
    "gdf_locations_389 = gdf_locations.loc[(gdf_locations.id == 389)]\n",
    "gdf_locations_389.to_file(\"./data_output/locations_389.geojson\", driver='GeoJSON')\n",
    "gdf_service_edges_389, gdf_service_locs_edges_389, gpd_all_service_areas_389 = sna.create_service_areas_for_locations(gdf_locations_389, 'polygon', G, nodes, edges, mapping_nodes, [5, 10, 15], 'ttime_walk', 20, 10, 200)\n",
    "gdf_service_edges_389.to_file(\"./data_output/service_area_edges_389.geojson\", driver='GeoJSON')\n",
    "gdf_service_locs_edges_389.to_file(\"./data_output/service_area_locs_edges_389.geojson\", driver='GeoJSON')\n",
    "print(len(G.nodes), len(mapping_nodes['map_nodes'])) \"\"\""
   ]
  },
  {
   "cell_type": "code",
   "execution_count": 42,
   "metadata": {},
   "outputs": [
    {
     "name": "stdout",
     "output_type": "stream",
     "text": [
      "Location id 4 not connected to network (d>20)\n",
      "Location id 5 not connected to network (d>20)\n",
      "Location id 6 not connected to network (d>20)\n",
      "Location id 7 not connected to network (d>20)\n",
      "Location id 8 not connected to network (d>20)\n",
      "Location id 9 not connected to network (d>20)\n",
      "Location id 10 not connected to network (d>20)\n",
      "Location id 11 not connected to network (d>20)\n",
      "Location id 12 not connected to network (d>20)\n",
      "Location id 28 not connected to network (d>20)\n",
      "Location id 35 not connected to network (d>20)\n",
      "Location id 39 not connected to network (d>20)\n",
      "Location id 40 not connected to network (d>20)\n",
      "Location id 41 not connected to network (d>20)\n",
      "Location id 187 not connected to network (d>20)\n",
      "Location id 189 not connected to network (d>20)\n",
      "Location id 190 not connected to network (d>20)\n",
      "Location id 192 not connected to network (d>20)\n",
      "Location id 193 not connected to network (d>20)\n"
     ]
    }
   ],
   "source": [
    "gdf_service_edges, gdf_service_locs_edges, gpd_all_service_areas = sna.create_service_areas_for_locations(gdf_locations, 'polygon', G, nodes, edges, mapping_nodes, [5, 10, 15], 'ttime_walk', 20, 10, 200)\n",
    "gdf_service_edges.to_file(\"data/service_area_edges.geojson\", driver='GeoJSON')\n",
    "gdf_service_locs_edges.to_file(\"data/service_area_locs_edges.geojson\", driver='GeoJSON')\n",
    "gpd_all_service_areas.to_file(\"data/service_areas.geojson\", driver='GeoJSON')"
   ]
  },
  {
   "cell_type": "code",
   "execution_count": 43,
   "metadata": {},
   "outputs": [],
   "source": [
    "gpd_all_service_areas_rings = sna.dissolve_service_areas_polygons( gpd_all_service_areas, v_type='rings')\n",
    "gpd_all_service_areas_rings.to_file(\"data/service_area_rings.geojson\", driver='GeoJSON')"
   ]
  },
  {
   "cell_type": "code",
   "execution_count": null,
   "metadata": {},
   "outputs": [],
   "source": []
  }
 ],
 "metadata": {
  "kernelspec": {
   "display_name": "uconn",
   "language": "python",
   "name": "uconn"
  },
  "language_info": {
   "codemirror_mode": {
    "name": "ipython",
    "version": 3
   },
   "file_extension": ".py",
   "mimetype": "text/x-python",
   "name": "python",
   "nbconvert_exporter": "python",
   "pygments_lexer": "ipython3",
   "version": "3.10.6"
  },
  "orig_nbformat": 4,
  "vscode": {
   "interpreter": {
    "hash": "3c4199a643ad11ad70cd3b60c960c931e44d804da5b3b25f48c0d40beb350406"
   }
  }
 },
 "nbformat": 4,
 "nbformat_minor": 2
}
