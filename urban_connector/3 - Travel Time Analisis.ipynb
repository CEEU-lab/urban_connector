{
 "cells": [
  {
   "cell_type": "code",
   "execution_count": 1,
   "metadata": {},
   "outputs": [],
   "source": [
    "import time\n",
    "import copy\n",
    "\n",
    "import pandas as pd\n",
    "import geopandas as gpd\n",
    "import spatial_network_analysis as sna\n",
    "\n",
    "import numpy as np\n",
    "import pandas as pd\n",
    "from shapely.geometry import MultiPoint, LineString, Polygon\n",
    "import momepy\n",
    "import networkx as nx"
   ]
  },
  {
   "attachments": {},
   "cell_type": "markdown",
   "metadata": {},
   "source": [
    "# Create Graph - DONE\n",
    "# define projected crs "
   ]
  },
  {
   "cell_type": "code",
   "execution_count": 6,
   "metadata": {},
   "outputs": [
    {
     "data": {
      "text/html": [
       "<div>\n",
       "<style scoped>\n",
       "    .dataframe tbody tr th:only-of-type {\n",
       "        vertical-align: middle;\n",
       "    }\n",
       "\n",
       "    .dataframe tbody tr th {\n",
       "        vertical-align: top;\n",
       "    }\n",
       "\n",
       "    .dataframe thead th {\n",
       "        text-align: right;\n",
       "    }\n",
       "</style>\n",
       "<table border=\"1\" class=\"dataframe\">\n",
       "  <thead>\n",
       "    <tr style=\"text-align: right;\">\n",
       "      <th></th>\n",
       "      <th>id</th>\n",
       "      <th>codigo</th>\n",
       "      <th>nomoficial</th>\n",
       "      <th>alt_izqini</th>\n",
       "      <th>alt_izqfin</th>\n",
       "      <th>alt_derini</th>\n",
       "      <th>alt_derfin</th>\n",
       "      <th>nomanter</th>\n",
       "      <th>nom_mapa</th>\n",
       "      <th>tipo_c</th>\n",
       "      <th>...</th>\n",
       "      <th>tipo_ffcc</th>\n",
       "      <th>COMUNA</th>\n",
       "      <th>COM_PAR</th>\n",
       "      <th>COM_IMPAR</th>\n",
       "      <th>BARRIO</th>\n",
       "      <th>BARRIO_PAR</th>\n",
       "      <th>BARRIO_IMP</th>\n",
       "      <th>geometry</th>\n",
       "      <th>len_m</th>\n",
       "      <th>ttime_walking</th>\n",
       "    </tr>\n",
       "  </thead>\n",
       "  <tbody>\n",
       "    <tr>\n",
       "      <th>0</th>\n",
       "      <td>0</td>\n",
       "      <td>16003</td>\n",
       "      <td>OBLIGADO RAFAEL, Av.Costanera</td>\n",
       "      <td>6182</td>\n",
       "      <td>6200</td>\n",
       "      <td>6181</td>\n",
       "      <td>6199</td>\n",
       "      <td>COSTANERA NORTE, Av.</td>\n",
       "      <td>AV.COSTANERA RAFAEL OBLIGADO</td>\n",
       "      <td>AVENIDA</td>\n",
       "      <td>...</td>\n",
       "      <td>NaN</td>\n",
       "      <td>13</td>\n",
       "      <td>13</td>\n",
       "      <td>13</td>\n",
       "      <td>PALERMO</td>\n",
       "      <td>PALERMO</td>\n",
       "      <td>PALERMO</td>\n",
       "      <td>LINESTRING (-58.42922 -34.55085, -58.42969 -34...</td>\n",
       "      <td>56.40</td>\n",
       "      <td>0.705000</td>\n",
       "    </tr>\n",
       "    <tr>\n",
       "      <th>1</th>\n",
       "      <td>1</td>\n",
       "      <td>16003</td>\n",
       "      <td>OBLIGADO RAFAEL, Av.Costanera</td>\n",
       "      <td>4202</td>\n",
       "      <td>4500</td>\n",
       "      <td>4201</td>\n",
       "      <td>4499</td>\n",
       "      <td>COSTANERA NORTE, Av.</td>\n",
       "      <td>AV.COSTANERA RAFAEL OBLIGADO</td>\n",
       "      <td>AVENIDA</td>\n",
       "      <td>...</td>\n",
       "      <td>NaN</td>\n",
       "      <td>14</td>\n",
       "      <td>14</td>\n",
       "      <td>14</td>\n",
       "      <td>PALERMO</td>\n",
       "      <td>PALERMO</td>\n",
       "      <td>PALERMO</td>\n",
       "      <td>LINESTRING (-58.41117 -34.55768, -58.41211 -34...</td>\n",
       "      <td>298.31</td>\n",
       "      <td>3.728875</td>\n",
       "    </tr>\n",
       "    <tr>\n",
       "      <th>2</th>\n",
       "      <td>2</td>\n",
       "      <td>19028</td>\n",
       "      <td>LARRALDE, CRISOLOGO AV.</td>\n",
       "      <td>4202</td>\n",
       "      <td>4220</td>\n",
       "      <td>4201</td>\n",
       "      <td>4219</td>\n",
       "      <td>REPUBLIQUETAS</td>\n",
       "      <td>AV. CRISOLOGO LARRALDE</td>\n",
       "      <td>AVENIDA</td>\n",
       "      <td>...</td>\n",
       "      <td>Paso a Nivel</td>\n",
       "      <td>12</td>\n",
       "      <td>12</td>\n",
       "      <td>12</td>\n",
       "      <td>SAAVEDRA</td>\n",
       "      <td>SAAVEDRA</td>\n",
       "      <td>SAAVEDRA</td>\n",
       "      <td>LINESTRING (-58.48435 -34.55768, -58.48464 -34...</td>\n",
       "      <td>30.60</td>\n",
       "      <td>0.382500</td>\n",
       "    </tr>\n",
       "    <tr>\n",
       "      <th>3</th>\n",
       "      <td>3</td>\n",
       "      <td>16003</td>\n",
       "      <td>OBLIGADO RAFAEL, Av.Costanera</td>\n",
       "      <td>3452</td>\n",
       "      <td>4200</td>\n",
       "      <td>3451</td>\n",
       "      <td>4199</td>\n",
       "      <td>COSTANERA NORTE, Av.</td>\n",
       "      <td>AV.COSTANERA RAFAEL OBLIGADO</td>\n",
       "      <td>AVENIDA</td>\n",
       "      <td>...</td>\n",
       "      <td>NaN</td>\n",
       "      <td>14</td>\n",
       "      <td>14</td>\n",
       "      <td>14</td>\n",
       "      <td>PALERMO</td>\n",
       "      <td>PALERMO</td>\n",
       "      <td>PALERMO</td>\n",
       "      <td>LINESTRING (-58.40978 -34.55878, -58.41059 -34...</td>\n",
       "      <td>176.88</td>\n",
       "      <td>2.211000</td>\n",
       "    </tr>\n",
       "    <tr>\n",
       "      <th>4</th>\n",
       "      <td>4</td>\n",
       "      <td>21059</td>\n",
       "      <td>TRONADOR</td>\n",
       "      <td>0</td>\n",
       "      <td>0</td>\n",
       "      <td>0</td>\n",
       "      <td>0</td>\n",
       "      <td>ESTOMBA Y PLAZA</td>\n",
       "      <td>TRONADOR</td>\n",
       "      <td>CALLE</td>\n",
       "      <td>...</td>\n",
       "      <td>NaN</td>\n",
       "      <td>12</td>\n",
       "      <td>12</td>\n",
       "      <td>12</td>\n",
       "      <td>COGHLAN</td>\n",
       "      <td>COGHLAN</td>\n",
       "      <td>COGHLAN</td>\n",
       "      <td>LINESTRING (-58.48099 -34.56048, -58.48105 -34...</td>\n",
       "      <td>9.41</td>\n",
       "      <td>0.117625</td>\n",
       "    </tr>\n",
       "  </tbody>\n",
       "</table>\n",
       "<p>5 rows × 32 columns</p>\n",
       "</div>"
      ],
      "text/plain": [
       "   id  codigo                     nomoficial  alt_izqini  alt_izqfin  \\\n",
       "0   0   16003  OBLIGADO RAFAEL, Av.Costanera        6182        6200   \n",
       "1   1   16003  OBLIGADO RAFAEL, Av.Costanera        4202        4500   \n",
       "2   2   19028        LARRALDE, CRISOLOGO AV.        4202        4220   \n",
       "3   3   16003  OBLIGADO RAFAEL, Av.Costanera        3452        4200   \n",
       "4   4   21059                       TRONADOR           0           0   \n",
       "\n",
       "   alt_derini  alt_derfin              nomanter                      nom_mapa  \\\n",
       "0        6181        6199  COSTANERA NORTE, Av.  AV.COSTANERA RAFAEL OBLIGADO   \n",
       "1        4201        4499  COSTANERA NORTE, Av.  AV.COSTANERA RAFAEL OBLIGADO   \n",
       "2        4201        4219         REPUBLIQUETAS        AV. CRISOLOGO LARRALDE   \n",
       "3        3451        4199  COSTANERA NORTE, Av.  AV.COSTANERA RAFAEL OBLIGADO   \n",
       "4           0           0       ESTOMBA Y PLAZA                      TRONADOR   \n",
       "\n",
       "    tipo_c  ...     tipo_ffcc COMUNA  COM_PAR COM_IMPAR    BARRIO BARRIO_PAR  \\\n",
       "0  AVENIDA  ...           NaN     13       13        13   PALERMO    PALERMO   \n",
       "1  AVENIDA  ...           NaN     14       14        14   PALERMO    PALERMO   \n",
       "2  AVENIDA  ...  Paso a Nivel     12       12        12  SAAVEDRA   SAAVEDRA   \n",
       "3  AVENIDA  ...           NaN     14       14        14   PALERMO    PALERMO   \n",
       "4    CALLE  ...           NaN     12       12        12   COGHLAN    COGHLAN   \n",
       "\n",
       "  BARRIO_IMP                                           geometry   len_m  \\\n",
       "0    PALERMO  LINESTRING (-58.42922 -34.55085, -58.42969 -34...   56.40   \n",
       "1    PALERMO  LINESTRING (-58.41117 -34.55768, -58.41211 -34...  298.31   \n",
       "2   SAAVEDRA  LINESTRING (-58.48435 -34.55768, -58.48464 -34...   30.60   \n",
       "3    PALERMO  LINESTRING (-58.40978 -34.55878, -58.41059 -34...  176.88   \n",
       "4    COGHLAN  LINESTRING (-58.48099 -34.56048, -58.48105 -34...    9.41   \n",
       "\n",
       "  ttime_walking  \n",
       "0      0.705000  \n",
       "1      3.728875  \n",
       "2      0.382500  \n",
       "3      2.211000  \n",
       "4      0.117625  \n",
       "\n",
       "[5 rows x 32 columns]"
      ]
     },
     "execution_count": 6,
     "metadata": {},
     "output_type": "execute_result"
    }
   ],
   "source": [
    "gdf_streets.head()"
   ]
  },
  {
   "cell_type": "code",
   "execution_count": 5,
   "metadata": {},
   "outputs": [
    {
     "name": "stderr",
     "output_type": "stream",
     "text": [
      "/tmp/ipykernel_802967/2096990861.py:3: FutureWarning: Currently, index_parts defaults to True, but in the future, it will default to False to be consistent with Pandas. Use `index_parts=True` to keep the current behavior and True/False to silence the warning.\n",
      "  gdf_streets = gdf_streets.explode().reset_index(drop=True)\n",
      "/tmp/ipykernel_802967/2096990861.py:12: UserWarning: Column names longer than 10 characters will be truncated when saved to ESRI Shapefile.\n",
      "  gdf_streets[['id', 'len_m', 'ttime_walking', 'geometry']].to_file(\"../data/Calles_topo_timetravel.shp\")\n"
     ]
    },
    {
     "ename": "DriverIOError",
     "evalue": "Failed to create file ../data/Calles_topo_timetravel.shp: No such file or directory",
     "output_type": "error",
     "traceback": [
      "\u001b[0;31m---------------------------------------------------------------------------\u001b[0m",
      "\u001b[0;31mCPLE_AppDefinedError\u001b[0m                      Traceback (most recent call last)",
      "File \u001b[0;32mfiona/ogrext.pyx:1239\u001b[0m, in \u001b[0;36mfiona.ogrext.WritingSession.start\u001b[0;34m()\u001b[0m\n",
      "File \u001b[0;32mfiona/ogrext.pyx:1240\u001b[0m, in \u001b[0;36mfiona.ogrext.WritingSession.start\u001b[0;34m()\u001b[0m\n",
      "File \u001b[0;32mfiona/_err.pyx:291\u001b[0m, in \u001b[0;36mfiona._err.exc_wrap_pointer\u001b[0;34m()\u001b[0m\n",
      "\u001b[0;31mCPLE_AppDefinedError\u001b[0m: Failed to create file ../data/Calles_topo_timetravel.shp: No such file or directory",
      "\nDuring handling of the above exception, another exception occurred:\n",
      "\u001b[0;31mDriverIOError\u001b[0m                             Traceback (most recent call last)",
      "Cell \u001b[0;32mIn[5], line 12\u001b[0m\n\u001b[1;32m      9\u001b[0m gdf_streets[\u001b[39m'\u001b[39m\u001b[39mttime_walking\u001b[39m\u001b[39m'\u001b[39m] \u001b[39m=\u001b[39m gdf_streets[\u001b[39m'\u001b[39m\u001b[39mlen_m\u001b[39m\u001b[39m'\u001b[39m] \u001b[39m/\u001b[39m \u001b[39m80\u001b[39m\n\u001b[1;32m     10\u001b[0m gdf_streets[\u001b[39m'\u001b[39m\u001b[39mid\u001b[39m\u001b[39m'\u001b[39m] \u001b[39m=\u001b[39m \u001b[39mlist\u001b[39m(gdf_streets\u001b[39m.\u001b[39mindex)\n\u001b[0;32m---> 12\u001b[0m gdf_streets[[\u001b[39m'\u001b[39;49m\u001b[39mid\u001b[39;49m\u001b[39m'\u001b[39;49m, \u001b[39m'\u001b[39;49m\u001b[39mlen_m\u001b[39;49m\u001b[39m'\u001b[39;49m, \u001b[39m'\u001b[39;49m\u001b[39mttime_walking\u001b[39;49m\u001b[39m'\u001b[39;49m, \u001b[39m'\u001b[39;49m\u001b[39mgeometry\u001b[39;49m\u001b[39m'\u001b[39;49m]]\u001b[39m.\u001b[39;49mto_file(\u001b[39m\"\u001b[39;49m\u001b[39m../data/Calles_topo_timetravel.shp\u001b[39;49m\u001b[39m\"\u001b[39;49m)\n",
      "File \u001b[0;32m~/federico/CEEU/urban_connector/venv/lib/python3.10/site-packages/geopandas/geodataframe.py:1263\u001b[0m, in \u001b[0;36mGeoDataFrame.to_file\u001b[0;34m(self, filename, driver, schema, index, **kwargs)\u001b[0m\n\u001b[1;32m   1172\u001b[0m \u001b[39m\u001b[39m\u001b[39m\"\"\"Write the ``GeoDataFrame`` to a file.\u001b[39;00m\n\u001b[1;32m   1173\u001b[0m \n\u001b[1;32m   1174\u001b[0m \u001b[39mBy default, an ESRI shapefile is written, but any OGR data source\u001b[39;00m\n\u001b[0;32m   (...)\u001b[0m\n\u001b[1;32m   1259\u001b[0m \n\u001b[1;32m   1260\u001b[0m \u001b[39m\"\"\"\u001b[39;00m\n\u001b[1;32m   1261\u001b[0m \u001b[39mfrom\u001b[39;00m \u001b[39mgeopandas\u001b[39;00m\u001b[39m.\u001b[39;00m\u001b[39mio\u001b[39;00m\u001b[39m.\u001b[39;00m\u001b[39mfile\u001b[39;00m \u001b[39mimport\u001b[39;00m _to_file\n\u001b[0;32m-> 1263\u001b[0m _to_file(\u001b[39mself\u001b[39;49m, filename, driver, schema, index, \u001b[39m*\u001b[39;49m\u001b[39m*\u001b[39;49mkwargs)\n",
      "File \u001b[0;32m~/federico/CEEU/urban_connector/venv/lib/python3.10/site-packages/geopandas/io/file.py:572\u001b[0m, in \u001b[0;36m_to_file\u001b[0;34m(df, filename, driver, schema, index, mode, crs, engine, **kwargs)\u001b[0m\n\u001b[1;32m    569\u001b[0m     \u001b[39mraise\u001b[39;00m \u001b[39mValueError\u001b[39;00m(\u001b[39mf\u001b[39m\u001b[39m\"\u001b[39m\u001b[39m'\u001b[39m\u001b[39mmode\u001b[39m\u001b[39m'\u001b[39m\u001b[39m should be one of \u001b[39m\u001b[39m'\u001b[39m\u001b[39mw\u001b[39m\u001b[39m'\u001b[39m\u001b[39m or \u001b[39m\u001b[39m'\u001b[39m\u001b[39ma\u001b[39m\u001b[39m'\u001b[39m\u001b[39m, got \u001b[39m\u001b[39m'\u001b[39m\u001b[39m{\u001b[39;00mmode\u001b[39m}\u001b[39;00m\u001b[39m'\u001b[39m\u001b[39m instead\u001b[39m\u001b[39m\"\u001b[39m)\n\u001b[1;32m    571\u001b[0m \u001b[39mif\u001b[39;00m engine \u001b[39m==\u001b[39m \u001b[39m\"\u001b[39m\u001b[39mfiona\u001b[39m\u001b[39m\"\u001b[39m:\n\u001b[0;32m--> 572\u001b[0m     _to_file_fiona(df, filename, driver, schema, crs, mode, \u001b[39m*\u001b[39;49m\u001b[39m*\u001b[39;49mkwargs)\n\u001b[1;32m    573\u001b[0m \u001b[39melif\u001b[39;00m engine \u001b[39m==\u001b[39m \u001b[39m\"\u001b[39m\u001b[39mpyogrio\u001b[39m\u001b[39m\"\u001b[39m:\n\u001b[1;32m    574\u001b[0m     _to_file_pyogrio(df, filename, driver, schema, crs, mode, \u001b[39m*\u001b[39m\u001b[39m*\u001b[39mkwargs)\n",
      "File \u001b[0;32m~/federico/CEEU/urban_connector/venv/lib/python3.10/site-packages/geopandas/io/file.py:598\u001b[0m, in \u001b[0;36m_to_file_fiona\u001b[0;34m(df, filename, driver, schema, crs, mode, **kwargs)\u001b[0m\n\u001b[1;32m    596\u001b[0m \u001b[39melif\u001b[39;00m crs:\n\u001b[1;32m    597\u001b[0m     crs_wkt \u001b[39m=\u001b[39m crs\u001b[39m.\u001b[39mto_wkt(\u001b[39m\"\u001b[39m\u001b[39mWKT1_GDAL\u001b[39m\u001b[39m\"\u001b[39m)\n\u001b[0;32m--> 598\u001b[0m \u001b[39mwith\u001b[39;00m fiona\u001b[39m.\u001b[39;49mopen(\n\u001b[1;32m    599\u001b[0m     filename, mode\u001b[39m=\u001b[39;49mmode, driver\u001b[39m=\u001b[39;49mdriver, crs_wkt\u001b[39m=\u001b[39;49mcrs_wkt, schema\u001b[39m=\u001b[39;49mschema, \u001b[39m*\u001b[39;49m\u001b[39m*\u001b[39;49mkwargs\n\u001b[1;32m    600\u001b[0m ) \u001b[39mas\u001b[39;00m colxn:\n\u001b[1;32m    601\u001b[0m     colxn\u001b[39m.\u001b[39mwriterecords(df\u001b[39m.\u001b[39miterfeatures())\n",
      "File \u001b[0;32m~/federico/CEEU/urban_connector/venv/lib/python3.10/site-packages/fiona/env.py:457\u001b[0m, in \u001b[0;36mensure_env_with_credentials.<locals>.wrapper\u001b[0;34m(*args, **kwds)\u001b[0m\n\u001b[1;32m    454\u001b[0m     session \u001b[39m=\u001b[39m DummySession()\n\u001b[1;32m    456\u001b[0m \u001b[39mwith\u001b[39;00m env_ctor(session\u001b[39m=\u001b[39msession):\n\u001b[0;32m--> 457\u001b[0m     \u001b[39mreturn\u001b[39;00m f(\u001b[39m*\u001b[39;49margs, \u001b[39m*\u001b[39;49m\u001b[39m*\u001b[39;49mkwds)\n",
      "File \u001b[0;32m~/federico/CEEU/urban_connector/venv/lib/python3.10/site-packages/fiona/__init__.py:303\u001b[0m, in \u001b[0;36mopen\u001b[0;34m(fp, mode, driver, schema, crs, encoding, layer, vfs, enabled_drivers, crs_wkt, allow_unsupported_drivers, **kwargs)\u001b[0m\n\u001b[1;32m    292\u001b[0m     colxn \u001b[39m=\u001b[39m Collection(\n\u001b[1;32m    293\u001b[0m         path,\n\u001b[1;32m    294\u001b[0m         mode,\n\u001b[0;32m   (...)\u001b[0m\n\u001b[1;32m    300\u001b[0m         \u001b[39m*\u001b[39m\u001b[39m*\u001b[39mkwargs\n\u001b[1;32m    301\u001b[0m     )\n\u001b[1;32m    302\u001b[0m \u001b[39melif\u001b[39;00m mode \u001b[39m==\u001b[39m \u001b[39m\"\u001b[39m\u001b[39mw\u001b[39m\u001b[39m\"\u001b[39m:\n\u001b[0;32m--> 303\u001b[0m     colxn \u001b[39m=\u001b[39m Collection(\n\u001b[1;32m    304\u001b[0m         path,\n\u001b[1;32m    305\u001b[0m         mode,\n\u001b[1;32m    306\u001b[0m         crs\u001b[39m=\u001b[39;49mcrs,\n\u001b[1;32m    307\u001b[0m         driver\u001b[39m=\u001b[39;49mdriver,\n\u001b[1;32m    308\u001b[0m         schema\u001b[39m=\u001b[39;49mschema,\n\u001b[1;32m    309\u001b[0m         encoding\u001b[39m=\u001b[39;49mencoding,\n\u001b[1;32m    310\u001b[0m         layer\u001b[39m=\u001b[39;49mlayer,\n\u001b[1;32m    311\u001b[0m         enabled_drivers\u001b[39m=\u001b[39;49menabled_drivers,\n\u001b[1;32m    312\u001b[0m         crs_wkt\u001b[39m=\u001b[39;49mcrs_wkt,\n\u001b[1;32m    313\u001b[0m         allow_unsupported_drivers\u001b[39m=\u001b[39;49mallow_unsupported_drivers,\n\u001b[1;32m    314\u001b[0m         \u001b[39m*\u001b[39;49m\u001b[39m*\u001b[39;49mkwargs\n\u001b[1;32m    315\u001b[0m     )\n\u001b[1;32m    316\u001b[0m \u001b[39melse\u001b[39;00m:\n\u001b[1;32m    317\u001b[0m     \u001b[39mraise\u001b[39;00m \u001b[39mValueError\u001b[39;00m(\u001b[39m\"\u001b[39m\u001b[39mmode string must be one of \u001b[39m\u001b[39m{\u001b[39m\u001b[39m'\u001b[39m\u001b[39mr\u001b[39m\u001b[39m'\u001b[39m\u001b[39m, \u001b[39m\u001b[39m'\u001b[39m\u001b[39mw\u001b[39m\u001b[39m'\u001b[39m\u001b[39m, \u001b[39m\u001b[39m'\u001b[39m\u001b[39ma\u001b[39m\u001b[39m'\u001b[39m\u001b[39m}\u001b[39m\u001b[39m\"\u001b[39m)\n",
      "File \u001b[0;32m~/federico/CEEU/urban_connector/venv/lib/python3.10/site-packages/fiona/collection.py:246\u001b[0m, in \u001b[0;36mCollection.__init__\u001b[0;34m(self, path, mode, driver, schema, crs, encoding, layer, vsi, archive, enabled_drivers, crs_wkt, ignore_fields, ignore_geometry, include_fields, wkt_version, allow_unsupported_drivers, **kwargs)\u001b[0m\n\u001b[1;32m    244\u001b[0m     \u001b[39melif\u001b[39;00m \u001b[39mself\u001b[39m\u001b[39m.\u001b[39mmode \u001b[39min\u001b[39;00m (\u001b[39m\"\u001b[39m\u001b[39ma\u001b[39m\u001b[39m\"\u001b[39m, \u001b[39m\"\u001b[39m\u001b[39mw\u001b[39m\u001b[39m\"\u001b[39m):\n\u001b[1;32m    245\u001b[0m         \u001b[39mself\u001b[39m\u001b[39m.\u001b[39msession \u001b[39m=\u001b[39m WritingSession()\n\u001b[0;32m--> 246\u001b[0m         \u001b[39mself\u001b[39;49m\u001b[39m.\u001b[39;49msession\u001b[39m.\u001b[39;49mstart(\u001b[39mself\u001b[39;49m, \u001b[39m*\u001b[39;49m\u001b[39m*\u001b[39;49mkwargs)\n\u001b[1;32m    247\u001b[0m \u001b[39mexcept\u001b[39;00m \u001b[39mOSError\u001b[39;00m:\n\u001b[1;32m    248\u001b[0m     \u001b[39mself\u001b[39m\u001b[39m.\u001b[39msession \u001b[39m=\u001b[39m \u001b[39mNone\u001b[39;00m\n",
      "File \u001b[0;32mfiona/ogrext.pyx:1248\u001b[0m, in \u001b[0;36mfiona.ogrext.WritingSession.start\u001b[0;34m()\u001b[0m\n",
      "\u001b[0;31mDriverIOError\u001b[0m: Failed to create file ../data/Calles_topo_timetravel.shp: No such file or directory"
     ]
    }
   ],
   "source": [
    "#gdf_streets = gpd.read_file(\"../2_Datos_Procesados/Calles_CII/Calles_topo.shp\")\n",
    "gdf_streets = gpd.read_file(\"data/CabaStreet_wgs84.zip\")\n",
    "gdf_streets = gdf_streets.explode().reset_index(drop=True)\n",
    "\n",
    "gdf_streets = gdf_streets.to_crs(\"EPSG:5347\") # ESTO PUEDE SER GENERICO DESDE UN CONFIG\n",
    "gdf_streets['len_m'] = gdf_streets.length\n",
    "gdf_streets.len_m = round(gdf_streets.len_m, 2)\n",
    "gdf_streets = gdf_streets.to_crs(\"EPSG:4326\")\n",
    "gdf_streets['ttime_walking'] = gdf_streets['len_m'] / 80\n",
    "gdf_streets['id'] = list(gdf_streets.index)\n",
    "\n",
    "gdf_streets[['id', 'len_m', 'ttime_walking', 'geometry']].to_file(\"data/Calles_topo_timetravel.shp\")"
   ]
  },
  {
   "cell_type": "code",
   "execution_count": 2,
   "metadata": {},
   "outputs": [
    {
     "name": "stderr",
     "output_type": "stream",
     "text": [
      "c:\\Users\\Compumar\\Documents\\DESA\\GIS_NetworkAn\\envNetworkAnalysis\\Lib\\site-packages\\libpysal\\weights\\weights.py:172: UserWarning: The weights matrix is not fully connected: \n",
      " There are 125 disconnected components.\n",
      "  warnings.warn(message)\n"
     ]
    },
    {
     "name": "stdout",
     "output_type": "stream",
     "text": [
      "66944 66944\n"
     ]
    }
   ],
   "source": [
    "gdf, G, nodes, edges, mapping_nodes = sna.create_graph_from_file(\"../2_Datos_Procesados/Calles_CII/Calles_topo_timetravel.shp\", \"3857\")\n",
    "print(len(G.nodes), len(mapping_nodes['map_nodes']))"
   ]
  },
  {
   "attachments": {},
   "cell_type": "markdown",
   "metadata": {},
   "source": [
    "# LOOP OVER LOCATIONS"
   ]
  },
  {
   "cell_type": "code",
   "execution_count": 3,
   "metadata": {},
   "outputs": [
    {
     "name": "stdout",
     "output_type": "stream",
     "text": [
      "402\n"
     ]
    }
   ],
   "source": [
    "gdf_locations = gpd.read_file(\"../1_Datos/EspaciosPublicos_v4.geojson\", driver=\"GeoJSON\")\n",
    "gdf_locations = gdf_locations.to_crs(\"3857\")\n",
    "gdf_locations = gdf_locations.explode(index_parts=True).reset_index(drop=True)\n",
    "gdf_locations = gdf_locations.loc[gdf_locations.evp == 1].reset_index(drop=True)\n",
    "gdf_locations['id'] = list(gdf_locations.index +1)\n",
    "gdf_locations.to_file(\"./data_output/locations.geojson\", driver='GeoJSON')\n",
    "# gdf_locations = gdf_locations.iloc[:5]\n",
    "print(len(gdf_locations))\n",
    "v_loc_type = 'polygon'"
   ]
  },
  {
   "cell_type": "code",
   "execution_count": 4,
   "metadata": {},
   "outputs": [
    {
     "data": {
      "text/plain": [
       "' print(len(G.nodes), len(mapping_nodes[\\'map_nodes\\']))\\ngdf_locations_389 = gdf_locations.loc[(gdf_locations.id == 389)]\\ngdf_locations_389.to_file(\"./data_output/locations_389.geojson\", driver=\\'GeoJSON\\')\\ngdf_service_edges_389, gdf_service_locs_edges_389, gpd_all_service_areas_389 = sna.create_service_areas_for_locations(gdf_locations_389, \\'polygon\\', G, nodes, edges, mapping_nodes, [5, 10, 15], \\'ttime_walk\\', 20, 10, 200)\\ngdf_service_edges_389.to_file(\"./data_output/service_area_edges_389.geojson\", driver=\\'GeoJSON\\')\\ngdf_service_locs_edges_389.to_file(\"./data_output/service_area_locs_edges_389.geojson\", driver=\\'GeoJSON\\')\\nprint(len(G.nodes), len(mapping_nodes[\\'map_nodes\\'])) '"
      ]
     },
     "execution_count": 4,
     "metadata": {},
     "output_type": "execute_result"
    }
   ],
   "source": [
    "# error por suma de costo\n",
    "\"\"\" print(len(G.nodes), len(mapping_nodes['map_nodes']))\n",
    "gdf_locations_389 = gdf_locations.loc[(gdf_locations.id == 389)]\n",
    "gdf_locations_389.to_file(\"./data_output/locations_389.geojson\", driver='GeoJSON')\n",
    "gdf_service_edges_389, gdf_service_locs_edges_389, gpd_all_service_areas_389 = sna.create_service_areas_for_locations(gdf_locations_389, 'polygon', G, nodes, edges, mapping_nodes, [5, 10, 15], 'ttime_walk', 20, 10, 200)\n",
    "gdf_service_edges_389.to_file(\"./data_output/service_area_edges_389.geojson\", driver='GeoJSON')\n",
    "gdf_service_locs_edges_389.to_file(\"./data_output/service_area_locs_edges_389.geojson\", driver='GeoJSON')\n",
    "print(len(G.nodes), len(mapping_nodes['map_nodes'])) \"\"\""
   ]
  },
  {
   "cell_type": "code",
   "execution_count": 6,
   "metadata": {},
   "outputs": [
    {
     "name": "stdout",
     "output_type": "stream",
     "text": [
      "Location id 189 not connected to network (d>20)\n",
      "Location id 205 not connected to network (d>20)\n",
      "Location id 219 not connected to network (d>20)\n",
      "Location id 295 not connected to network (d>20)\n",
      "Location id 296 not connected to network (d>20)\n"
     ]
    }
   ],
   "source": [
    "gdf_service_edges, gdf_service_locs_edges, gpd_all_service_areas = sna.create_service_areas_for_locations(gdf_locations, 'polygon', G, nodes, edges, mapping_nodes, [5, 10, 15], 'ttime_walk', 20, 10, 200)\n",
    "gdf_service_edges.to_file(\"./data_output/service_area_edges.geojson\", driver='GeoJSON')\n",
    "gdf_service_locs_edges.to_file(\"./data_output/service_area_locs_edges.geojson\", driver='GeoJSON')\n",
    "gpd_all_service_areas.to_file(\"./data_output/service_areas.geojson\", driver='GeoJSON')"
   ]
  },
  {
   "cell_type": "code",
   "execution_count": 17,
   "metadata": {},
   "outputs": [],
   "source": [
    "gpd_all_service_areas_rings = sna.dissolve_service_areas_polygons( gpd_all_service_areas, v_type='rings')\n",
    "gpd_all_service_areas_rings.to_file(\"./data_output/service_area_rings.geojson\", driver='GeoJSON')"
   ]
  },
  {
   "cell_type": "code",
   "execution_count": null,
   "metadata": {},
   "outputs": [],
   "source": []
  }
 ],
 "metadata": {
  "kernelspec": {
   "display_name": "uconn",
   "language": "python",
   "name": "uconn"
  },
  "language_info": {
   "codemirror_mode": {
    "name": "ipython",
    "version": 3
   },
   "file_extension": ".py",
   "mimetype": "text/x-python",
   "name": "python",
   "nbconvert_exporter": "python",
   "pygments_lexer": "ipython3",
   "version": "3.10.6"
  },
  "orig_nbformat": 4,
  "vscode": {
   "interpreter": {
    "hash": "3c4199a643ad11ad70cd3b60c960c931e44d804da5b3b25f48c0d40beb350406"
   }
  }
 },
 "nbformat": 4,
 "nbformat_minor": 2
}
